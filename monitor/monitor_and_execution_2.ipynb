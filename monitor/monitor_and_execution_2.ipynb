{
 "cells": [
  {
   "cell_type": "code",
   "execution_count": 8,
   "metadata": {},
   "outputs": [
    {
     "name": "stdout",
     "output_type": "stream",
     "text": [
      "Trading system functions loaded. Log file will be saved to: /home/chris_s_dodd/source/optcom/monitor/output/logs/trader.log\n"
     ]
    }
   ],
   "source": [
    "import os\n",
    "import sys\n",
    "import time\n",
    "import logging\n",
    "import subprocess\n",
    "import signal\n",
    "import argparse\n",
    "import random\n",
    "from datetime import datetime\n",
    "from IPython.display import display, HTML, clear_output\n",
    "\n",
    "# Set up logging directory - using absolute paths to avoid any issues\n",
    "script_dir = os.path.dirname(os.path.abspath('__file__'))\n",
    "log_dir = os.path.join(script_dir, 'output', 'logs')\n",
    "os.makedirs(log_dir, exist_ok=True)\n",
    "\n",
    "# Configure logging\n",
    "logging.basicConfig(\n",
    "    level=logging.INFO,\n",
    "    format='%(asctime)s - %(levelname)s - %(message)s',\n",
    "    handlers=[\n",
    "        logging.FileHandler(os.path.join(log_dir, \"trader.log\")),\n",
    "        logging.StreamHandler()\n",
    "    ]\n",
    ")\n",
    "logger = logging.getLogger()\n",
    "\n",
    "def run_price_monitor(runtime=120, port=7497):\n",
    "    \"\"\"\n",
    "    Run the price monitor script with specified runtime\n",
    "    \n",
    "    Parameters:\n",
    "    runtime (int): How long to run the price monitor (in seconds)\n",
    "    port (int): IBKR port to connect to\n",
    "    \n",
    "    Returns:\n",
    "    bool: True if successful, False otherwise\n",
    "    \"\"\"\n",
    "    logger.info(f\"Starting price monitor with runtime: {runtime} seconds...\")\n",
    "    print(f\"Starting price monitor with runtime: {runtime} seconds...\")\n",
    "    \n",
    "    # Path to price_monitor.py using absolute path\n",
    "    script_path = os.path.join(script_dir, 'price_monitor.py')\n",
    "    \n",
    "    if not os.path.exists(script_path):\n",
    "        logger.error(f\"Price monitor script not found at: {script_path}\")\n",
    "        print(f\"ERROR: Price monitor script not found at: {script_path}\")\n",
    "        return False\n",
    "    \n",
    "    try:\n",
    "        # Run price_monitor with specified runtime and port\n",
    "        cmd = [sys.executable, script_path, '--runtime', str(runtime), '--port', str(port)]\n",
    "        \n",
    "        # For notebook, we'll use Popen and communicate to capture output\n",
    "        process = subprocess.Popen(cmd, stdout=subprocess.PIPE, stderr=subprocess.STDOUT, text=True)\n",
    "        \n",
    "        # Stream the output\n",
    "        for line in iter(process.stdout.readline, ''):\n",
    "            if not line:\n",
    "                break\n",
    "            print(line.strip())\n",
    "        \n",
    "        # Wait for process to complete with timeout\n",
    "        try:\n",
    "            exit_code = process.wait(timeout=runtime+10)\n",
    "            if exit_code == 0:\n",
    "                logger.info(\"Price monitor completed successfully\")\n",
    "                print(\"Price monitor completed successfully\")\n",
    "                \n",
    "                # Wait a moment to ensure any database operations complete\n",
    "                time.sleep(3)\n",
    "                return True\n",
    "            else:\n",
    "                logger.error(f\"Price monitor exited with code {exit_code}\")\n",
    "                print(f\"ERROR: Price monitor exited with code {exit_code}\")\n",
    "                return False\n",
    "        except subprocess.TimeoutExpired:\n",
    "            process.kill()\n",
    "            logger.error(\"Price monitor timed out\")\n",
    "            print(\"ERROR: Price monitor timed out\")\n",
    "            return False\n",
    "    \n",
    "    except Exception as e:\n",
    "        logger.error(f\"Error running price monitor: {str(e)}\")\n",
    "        print(f\"ERROR: Error running price monitor: {str(e)}\")\n",
    "        return False\n",
    "\n",
    "def run_order_placement(port=7497, allow_market_closed=False):\n",
    "    \"\"\"\n",
    "    Run the order placement script\n",
    "    \n",
    "    Parameters:\n",
    "    port (int): IBKR port to connect to\n",
    "    allow_market_closed (bool): Whether to allow orders when market is closed\n",
    "    \n",
    "    Returns:\n",
    "    bool: True if successful, False otherwise\n",
    "    \"\"\"\n",
    "    logger.info(\"Starting order placement...\")\n",
    "    print(\"Starting order placement...\")\n",
    "    \n",
    "    # Path to vertical_spread_order.py using absolute path\n",
    "    script_path = os.path.join(script_dir, 'vertical_spread_order.py')\n",
    "    \n",
    "    if not os.path.exists(script_path):\n",
    "        logger.error(f\"Order placement script not found at: {script_path}\")\n",
    "        print(f\"ERROR: Order placement script not found at: {script_path}\")\n",
    "        return False\n",
    "    \n",
    "    try:\n",
    "        # Generate a random client ID to avoid connection conflicts\n",
    "        client_id = random.randint(100, 9999)\n",
    "        \n",
    "        # Set up command with appropriate arguments\n",
    "        cmd = [\n",
    "            sys.executable, \n",
    "            script_path, \n",
    "            '--client', str(client_id), \n",
    "            '--port', str(port)\n",
    "        ]\n",
    "        \n",
    "        # Add allow-market-closed flag if specified\n",
    "        if allow_market_closed:\n",
    "            cmd.append('--allow-market-closed')\n",
    "        \n",
    "        # For notebook, we'll use Popen and communicate to capture output\n",
    "        process = subprocess.Popen(cmd, stdout=subprocess.PIPE, stderr=subprocess.STDOUT, text=True)\n",
    "        \n",
    "        # Stream the output\n",
    "        for line in iter(process.stdout.readline, ''):\n",
    "            if not line:\n",
    "                break\n",
    "            print(line.strip())\n",
    "        \n",
    "        # Wait for process to complete with timeout\n",
    "        try:\n",
    "            exit_code = process.wait(timeout=60)  # 60 second timeout\n",
    "            if exit_code == 0:\n",
    "                logger.info(\"Order placement completed successfully\")\n",
    "                print(\"Order placement completed successfully\")\n",
    "                return True\n",
    "            else:\n",
    "                logger.error(f\"Order placement exited with code {exit_code}\")\n",
    "                print(f\"ERROR: Order placement exited with code {exit_code}\")\n",
    "                return False\n",
    "        except subprocess.TimeoutExpired:\n",
    "            process.kill()\n",
    "            logger.error(\"Order placement timed out\")\n",
    "            print(\"ERROR: Order placement timed out\")\n",
    "            return False\n",
    "    \n",
    "    except Exception as e:\n",
    "        logger.error(f\"Error running order placement: {str(e)}\")\n",
    "        print(f\"ERROR: Error running order placement: {str(e)}\")\n",
    "        return False\n",
    "\n",
    "def run_trading_system(runtime=60, cycles=1, port=7497, allow_market_closed=False, interval=60):\n",
    "    \"\"\"\n",
    "    Run the full trading system for specified number of cycles\n",
    "    \n",
    "    Parameters:\n",
    "    runtime (int): Runtime for price monitor in seconds\n",
    "    cycles (int): Number of trading cycles to run\n",
    "    port (int): IBKR port to connect to\n",
    "    allow_market_closed (bool): Whether to allow orders when markets are closed\n",
    "    interval (int): Seconds to wait between cycle starts\n",
    "    \"\"\"\n",
    "    \n",
    "    logger.info(\"=\" * 80)\n",
    "    logger.info(f\"Starting automated trading system (port: {port}, runtime: {runtime}s)\")\n",
    "    logger.info(\"=\" * 80)\n",
    "\n",
    "    display(HTML(f\"<h3>Starting automated trading system</h3>\"))\n",
    "    display(HTML(f\"<p>Port: {port} ({'Paper Trading' if port == 7497 else 'Live Trading'})</p>\"))\n",
    "    display(HTML(f\"<p>Monitor runtime: {runtime} seconds</p>\"))\n",
    "    display(HTML(f\"<p>Market closed orders: {'Allowed' if allow_market_closed else 'Not allowed'}</p>\"))\n",
    "\n",
    "    cycle_count = 0\n",
    "\n",
    "    # Main loop\n",
    "    while cycle_count < cycles:\n",
    "        cycle_count += 1\n",
    "        logger.info(f\"Starting cycle {cycle_count} of {cycles}\")\n",
    "        display(HTML(f\"<h4>Starting cycle {cycle_count} of {cycles}</h4>\"))\n",
    "        \n",
    "        cycle_start = time.time()\n",
    "        \n",
    "        # Step 1: Run price monitor\n",
    "        display(HTML(\"<p><b>Step 1:</b> Running price monitor...</p>\"))\n",
    "        monitor_success = run_price_monitor(runtime=runtime, port=port)\n",
    "        \n",
    "        # Step 2: Run order placement if monitoring was successful\n",
    "        if monitor_success:\n",
    "            display(HTML(\"<p><b>Step 2:</b> Running order placement...</p>\"))\n",
    "            order_success = run_order_placement(port=port, allow_market_closed=allow_market_closed)\n",
    "            if not order_success:\n",
    "                display(HTML(\"<p style='color:red'>Warning: Order placement failed or was incomplete</p>\"))\n",
    "                logger.warning(\"Order placement failed or was incomplete\")\n",
    "        else:\n",
    "            display(HTML(\"<p style='color:red'>Error: Price monitoring failed, skipping order placement</p>\"))\n",
    "            logger.error(\"Price monitoring failed, skipping order placement\")\n",
    "        \n",
    "        # Calculate how long to wait until next cycle\n",
    "        cycle_duration = time.time() - cycle_start\n",
    "        wait_time = max(0, interval - cycle_duration)\n",
    "        \n",
    "        # Wait for interval before starting the next cycle\n",
    "        if cycle_count < cycles and wait_time > 0:\n",
    "            display(HTML(f\"<p>Cycle {cycle_count} complete. Waiting {wait_time:.1f} seconds until next cycle...</p>\"))\n",
    "            logger.info(f\"Waiting {wait_time:.1f} seconds until next cycle...\")\n",
    "            \n",
    "            # Use a progress indicator for waiting\n",
    "            start_wait = time.time()\n",
    "            while time.time() - start_wait < wait_time:\n",
    "                elapsed = time.time() - start_wait\n",
    "                percent = min(100, (elapsed / wait_time) * 100)\n",
    "                \n",
    "                # Clear the output and show progress\n",
    "                clear_output(wait=True)\n",
    "                display(HTML(f\"<p>Cycle {cycle_count} complete. Waiting for next cycle...</p>\"))\n",
    "                display(HTML(f\"<p>Progress: {percent:.1f}% ({elapsed:.1f}/{wait_time:.1f} seconds)</p>\"))\n",
    "                display(HTML(f\"<div style='width:100%; background-color:#f0f0f0; height:20px'>\"\n",
    "                            f\"<div style='width:{percent}%; background-color:#4CAF50; height:20px'></div></div>\"))\n",
    "                \n",
    "                # Sleep for a short interval\n",
    "                time.sleep(0.5)\n",
    "\n",
    "    display(HTML(f\"<h3>Trading system completed after {cycle_count} cycles</h3>\"))\n",
    "    logger.info(f\"Trading system completed after {cycle_count} cycles\")\n",
    "    \n",
    "    return cycle_count\n",
    "\n",
    "# Display a message to confirm code loaded\n",
    "print(f\"Trading system functions loaded. Log file will be saved to: {os.path.join(log_dir, 'trader.log')}\")"
   ]
  },
  {
   "cell_type": "code",
   "execution_count": 9,
   "metadata": {},
   "outputs": [
    {
     "data": {
      "text/html": [
       "<p>Cycle 699 complete. Waiting for next cycle...</p>"
      ],
      "text/plain": [
       "<IPython.core.display.HTML object>"
      ]
     },
     "metadata": {},
     "output_type": "display_data"
    },
    {
     "data": {
      "text/html": [
       "<p>Progress: 99.8% (45.7/45.8 seconds)</p>"
      ],
      "text/plain": [
       "<IPython.core.display.HTML object>"
      ]
     },
     "metadata": {},
     "output_type": "display_data"
    },
    {
     "data": {
      "text/html": [
       "<div style='width:100%; background-color:#f0f0f0; height:20px'><div style='width:99.77027982164417%; background-color:#4CAF50; height:20px'></div></div>"
      ],
      "text/plain": [
       "<IPython.core.display.HTML object>"
      ]
     },
     "metadata": {},
     "output_type": "display_data"
    },
    {
     "name": "stderr",
     "output_type": "stream",
     "text": [
      "2025-06-06 03:40:42,675 - INFO - Starting cycle 700 of 700\n"
     ]
    },
    {
     "data": {
      "text/html": [
       "<h4>Starting cycle 700 of 700</h4>"
      ],
      "text/plain": [
       "<IPython.core.display.HTML object>"
      ]
     },
     "metadata": {},
     "output_type": "display_data"
    },
    {
     "data": {
      "text/html": [
       "<p><b>Step 1:</b> Running price monitor...</p>"
      ],
      "text/plain": [
       "<IPython.core.display.HTML object>"
      ]
     },
     "metadata": {},
     "output_type": "display_data"
    },
    {
     "name": "stderr",
     "output_type": "stream",
     "text": [
      "2025-06-06 03:40:42,680 - INFO - Starting price monitor with runtime: 120 seconds...\n"
     ]
    },
    {
     "name": "stdout",
     "output_type": "stream",
     "text": [
      "Starting price monitor with runtime: 120 seconds...\n",
      "/home/chris_s_dodd/source/optcom/monitor/price_monitor.py:2: DeprecationWarning:\n",
      "Pyarrow will become a required dependency of pandas in the next major release of pandas (pandas 3.0),\n",
      "(to allow more performant data types, such as the Arrow string type, and better interoperability with other libraries)\n",
      "but was not found to be installed on your system.\n",
      "If this would cause problems for you,\n",
      "please provide us feedback at https://github.com/pandas-dev/pandas/issues/54466\n",
      "\n",
      "import pandas as pd\n",
      "2025-06-06 03:40:43,209 - INFO - Connecting to IBKR at 127.0.0.1:7497\n",
      "2025-06-06 03:40:43,209 - INFO - ANSWER error {'reqId': -1, 'errorTime': 1749181243210, 'errorCode': 502, 'errorString': 'Couldn\\'t connect to TWS. Confirm that \"Enable ActiveX and Socket EClients\" \\nis enabled and connection port is the same as \"Socket Port\" on the \\nTWS \"Edit->Global Configuration...->API->Settings\" menu. Live Trading ports: \\nTWS: 7496; IB Gateway: 4001. Simulated Trading ports for new installations \\nof version 954.1 or newer:  TWS: 7497; IB Gateway: 4002', 'advancedOrderRejectJson': ''}\n",
      "2025-06-06 03:40:43,209 - ERROR - ERROR -1 1749181243210 502 Couldn't connect to TWS. Confirm that \"Enable ActiveX and Socket EClients\"\n",
      "is enabled and connection port is the same as \"Socket Port\" on the\n",
      "TWS \"Edit->Global Configuration...->API->Settings\" menu. Live Trading ports:\n",
      "TWS: 7496; IB Gateway: 4001. Simulated Trading ports for new installations\n",
      "of version 954.1 or newer:  TWS: 7497; IB Gateway: 4002\n",
      "2025-06-06 03:40:43,209 - ERROR - Error 1749181243210 for request -1: 502\n",
      "2025-06-06 03:40:43,210 - INFO - could not connect\n",
      "2025-06-06 03:40:43,210 - INFO - disconnecting\n",
      "2025-06-06 03:40:43,210 - INFO - ANSWER connectionClosed {}\n"
     ]
    },
    {
     "name": "stderr",
     "output_type": "stream",
     "text": [
      "2025-06-06 03:40:53,286 - INFO - Price monitor completed successfully\n"
     ]
    },
    {
     "name": "stdout",
     "output_type": "stream",
     "text": [
      "2025-06-06 03:40:53,213 - ERROR - Failed to connect to IBKR within timeout\n",
      "2025-06-06 03:40:53,213 - ERROR - Failed to connect to IBKR. Exiting.\n",
      "2025-06-06 03:40:53,213 - INFO - Price monitoring complete\n",
      "Price monitor completed successfully\n"
     ]
    },
    {
     "data": {
      "text/html": [
       "<p><b>Step 2:</b> Running order placement...</p>"
      ],
      "text/plain": [
       "<IPython.core.display.HTML object>"
      ]
     },
     "metadata": {},
     "output_type": "display_data"
    },
    {
     "name": "stderr",
     "output_type": "stream",
     "text": [
      "2025-06-06 03:40:56,292 - INFO - Starting order placement...\n"
     ]
    },
    {
     "name": "stdout",
     "output_type": "stream",
     "text": [
      "Starting order placement...\n",
      "/home/chris_s_dodd/source/optcom/monitor/vertical_spread_order.py:5: DeprecationWarning:\n",
      "Pyarrow will become a required dependency of pandas in the next major release of pandas (pandas 3.0),\n",
      "(to allow more performant data types, such as the Arrow string type, and better interoperability with other libraries)\n",
      "but was not found to be installed on your system.\n",
      "If this would cause problems for you,\n",
      "please provide us feedback at https://github.com/pandas-dev/pandas/issues/54466\n",
      "\n",
      "import pandas as pd\n",
      "2025-06-06 03:40:56,823 - INFO - Processing strategies for date: 2025-06-06\n",
      "2025-06-06 03:40:56,823 - INFO - Market closed orders allowed: True\n",
      "2025-06-06 03:40:56,825 - INFO - Getting strategies for date: 2025-06-06\n",
      "2025-06-06 03:40:56,828 - INFO - No strategies found for 2025-06-06\n"
     ]
    },
    {
     "name": "stderr",
     "output_type": "stream",
     "text": [
      "2025-06-06 03:40:56,919 - INFO - Order placement completed successfully\n"
     ]
    },
    {
     "name": "stdout",
     "output_type": "stream",
     "text": [
      "Order placement completed successfully\n"
     ]
    },
    {
     "data": {
      "text/html": [
       "<h3>Trading system completed after 700 cycles</h3>"
      ],
      "text/plain": [
       "<IPython.core.display.HTML object>"
      ]
     },
     "metadata": {},
     "output_type": "display_data"
    },
    {
     "name": "stderr",
     "output_type": "stream",
     "text": [
      "2025-06-06 03:40:56,922 - INFO - Trading system completed after 700 cycles\n"
     ]
    },
    {
     "data": {
      "text/plain": [
       "700"
      ]
     },
     "execution_count": 9,
     "metadata": {},
     "output_type": "execute_result"
    }
   ],
   "source": [
    "# Set your parameters here\n",
    "runtime = 120               # Runtime for price monitor in seconds\n",
    "cycles =  700               # Number of trading cycles to run\n",
    "port = 7497                # IBKR port (7497 for paper, 7496 for live)\n",
    "allow_market_closed = True # Allow orders when markets are closed\n",
    "interval = 60              # Seconds to wait between cycle starts\n",
    "\n",
    "# Display configuration\n",
    "print(\"=== Trading System Configuration ===\")\n",
    "print(f\"Price monitor runtime: {runtime} seconds\")\n",
    "print(f\"Number of cycles: {cycles}\")\n",
    "print(f\"IBKR port: {port} ({'Paper Trading' if port == 7497 else 'Live Trading'})\")\n",
    "print(f\"Allow market closed orders: {allow_market_closed}\")\n",
    "print(f\"Interval between cycles: {interval} seconds\")\n",
    "print(\"=================================\")\n",
    "\n",
    "# Run the trading system\n",
    "run_trading_system(\n",
    "    runtime=runtime,\n",
    "    cycles=cycles,\n",
    "    port=port,\n",
    "    allow_market_closed=allow_market_closed,\n",
    "    interval=interval\n",
    ")"
   ]
  }
 ],
 "metadata": {
  "kernelspec": {
   "display_name": "optcom",
   "language": "python",
   "name": "python3"
  },
  "language_info": {
   "codemirror_mode": {
    "name": "ipython",
    "version": 3
   },
   "file_extension": ".py",
   "mimetype": "text/x-python",
   "name": "python",
   "nbconvert_exporter": "python",
   "pygments_lexer": "ipython3",
   "version": "3.10.13"
  }
 },
 "nbformat": 4,
 "nbformat_minor": 2
}
