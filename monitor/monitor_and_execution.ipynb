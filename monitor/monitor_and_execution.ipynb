{
  "cells": [
    {
      "cell_type": "markdown",
      "metadata": {},
      "source": [
        "# Automated Options Trading Monitor and Execution\n",
        "\n",
        "This notebook automates the monitoring of option prices and places vertical spread orders when the conditions are met."
      ]
    },
    {
      "cell_type": "code",
      "execution_count": 1,
      "metadata": {},
      "source": [
        "import time\n",
        "import logging\n",
        "import datetime\n",
        "import os\n",
        "\n",
        "# Set up logging\n",
        "logging.basicConfig(\n",
        "    level=logging.INFO,\n",
        "    format='%(asctime)s - %(levelname)s - %(message)s'\n",
        ")\n",
        "logger = logging.getLogger()\n",
        "\n",
        "# Configuration\n",
        "MAX_CYCLES = 5\n",
        "CYCLE_WAIT_SECONDS = 60\n",
        "MONITOR_RUNTIME_SECONDS = 60\n",
        "DB_PATH = '../database/option_strategies.db'\n",
        "IBKR_HOST = '127.0.0.1'\n",
        "IBKR_PORT = 7497\n",
        "\n",
        "# Market closed settings\n",
        "ALLOW_MARKET_CLOSED_ORDERS = True  # Set to True to allow orders when market is closed\n",
        "\n",
        "# Print startup message\n",
        "logger.info(\"=\" * 80)\n",
        "logger.info(\"Starting automated trading system\")\n",
        "logger.info(\"=\" * 80)"
      ]
    },
    {
      "cell_type": "code",
      "execution_count": 2,
      "metadata": {},
      "source": [
        "cycle = 1\n",
        "while cycle <= MAX_CYCLES:\n",
        "    logger.info(f\"Starting cycle {cycle}\")\n",
        "    \n",
        "    # Step 1: Run price monitor\n",
        "    logger.info(\"Starting price monitor...\")\n",
        "    try:\n",
        "        from monitor.price_monitor import run_price_monitor\n",
        "        run_price_monitor(\n",
        "            db_path=DB_PATH,\n",
        "            host=IBKR_HOST,\n",
        "            port=IBKR_PORT,\n",
        "            runtime_seconds=MONITOR_RUNTIME_SECONDS\n",
        "        )\n",
        "        logger.info(\"Price monitor completed successfully\")\n",
        "    except Exception as e:\n",
        "        logger.error(f\"Error running price monitor: {str(e)}\")\n",
        "    \n",
        "    # Step 2: Place orders for triggered strategies\n",
        "    logger.info(\"Starting order placement...\")\n",
        "    try:\n",
        "        from monitor.vertical_spread_order import run_trading_app\n",
        "        \n",
        "        # Pass the allow_market_closed parameter to control market closed behavior\n",
        "        run_trading_app(\n",
        "            db_path=DB_PATH,\n",
        "            target_date=datetime.datetime.now().strftime('%Y-%m-%d'),\n",
        "            ibkr_host=IBKR_HOST,\n",
        "            ibkr_port=IBKR_PORT,\n",
        "            allow_market_closed=ALLOW_MARKET_CLOSED_ORDERS  # NEW PARAMETER\n",
        "        )\n",
        "        logger.info(\"Order placement completed successfully\")\n",
        "    except Exception as e:\n",
        "        logger.error(f\"Error placing orders: {str(e)}\")\n",
        "    \n",
        "    if cycle < MAX_CYCLES:\n",
        "        logger.info(f\"Waiting {CYCLE_WAIT_SECONDS} seconds until next cycle...\")\n",
        "        time.sleep(CYCLE_WAIT_SECONDS)\n",
        "    \n",
        "    cycle += 1\n",
        "\n",
        "logger.info(\"Automated trading system completed\")"
      ]
    },
    {
      "cell_type": "markdown",
      "metadata": {},
      "source": [
        "## Configure Market Closed Order Behavior\n",
        "\n",
        "You can control whether orders are allowed to be placed when the market is closed by setting the `ALLOW_MARKET_CLOSED_ORDERS` variable at the top of the notebook.\n",
        "\n",
        "- When `ALLOW_MARKET_CLOSED_ORDERS = True`: If the market is closed, orders will be placed using the estimated premium from the database.\n",
        "- When `ALLOW_MARKET_CLOSED_ORDERS = False`: Orders will only be placed if the market is open AND the actual market premium is greater than or equal to the estimated premium.\n",
        "\n",
        "This allows for more flexibility in strategy execution."
      ]
    }
  ],
  "metadata": {
    "kernelspec": {
      "display_name": "Python 3",
      "language": "python",
      "name": "python3"
    },
    "language_info": {
      "codemirror_mode": {
        "name": "ipython",
        "version": 3
      },
      "file_extension": ".py",
      "mimetype": "text/x-python",
      "name": "python",
      "nbconvert_exporter": "python",
      "pygments_lexer": "ipython3",
      "version": "3.8.10"
    }
  },
  "nbformat": 4,
  "nbformat_minor": 4
}