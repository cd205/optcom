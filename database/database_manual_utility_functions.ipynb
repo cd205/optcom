{
 "cells": [
  {
   "cell_type": "markdown",
   "metadata": {},
   "source": [
    "## Veiew DB in panadas"
   ]
  },
  {
   "cell_type": "code",
   "execution_count": 4,
   "metadata": {},
   "outputs": [
    {
     "name": "stdout",
     "output_type": "stream",
     "text": [
      "['id', 'scrape_date', 'strategy_type', 'tab_name', 'ticker', 'er', 'INTEGER', 'trigger_price', 'strike_price', 'strike_buy', 'strike_sell', 'estimated_premium', 'last_price_when_checked', 'timestamp_of_price_when_last_checked', 'item_id', 'options_expiry_date', 'date_info', 'timestamp_of_trigger', 'strategy_status', 'price_when_triggered', 'price_when_order_placed', 'premium_at_order', 'premium_when_last_checked', 'timestamp_of_order']\n"
     ]
    },
    {
     "data": {
      "text/html": [
       "<div>\n",
       "<style scoped>\n",
       "    .dataframe tbody tr th:only-of-type {\n",
       "        vertical-align: middle;\n",
       "    }\n",
       "\n",
       "    .dataframe tbody tr th {\n",
       "        vertical-align: top;\n",
       "    }\n",
       "\n",
       "    .dataframe thead th {\n",
       "        text-align: right;\n",
       "    }\n",
       "</style>\n",
       "<table border=\"1\" class=\"dataframe\">\n",
       "  <thead>\n",
       "    <tr style=\"text-align: right;\">\n",
       "      <th></th>\n",
       "      <th>id</th>\n",
       "      <th>strategy_type</th>\n",
       "      <th>tab_name</th>\n",
       "      <th>er</th>\n",
       "      <th>ticker</th>\n",
       "      <th>trigger_price</th>\n",
       "      <th>strike_price</th>\n",
       "      <th>strike_buy</th>\n",
       "      <th>strike_sell</th>\n",
       "      <th>estimated_premium</th>\n",
       "      <th>last_price_when_checked</th>\n",
       "      <th>timestamp_of_price_when_last_checked</th>\n",
       "      <th>scrape_date</th>\n",
       "      <th>timestamp_of_trigger</th>\n",
       "      <th>strategy_status</th>\n",
       "      <th>price_when_triggered</th>\n",
       "      <th>price_when_order_placed</th>\n",
       "      <th>premium_when_last_checked</th>\n",
       "    </tr>\n",
       "  </thead>\n",
       "  <tbody>\n",
       "    <tr>\n",
       "      <th>3</th>\n",
       "      <td>318</td>\n",
       "      <td>Bear Call</td>\n",
       "      <td>Mild Risk 95-97% accuracy &gt; shorter expiry</td>\n",
       "      <td>0.0</td>\n",
       "      <td>MSFT</td>\n",
       "      <td>403.28</td>\n",
       "      <td>sell 425.0 - buy 435.0</td>\n",
       "      <td>435.0</td>\n",
       "      <td>425.0</td>\n",
       "      <td>153.0</td>\n",
       "      <td>380.00</td>\n",
       "      <td>2025-04-11T05:37:31.030786</td>\n",
       "      <td>2025-04-11</td>\n",
       "      <td>None</td>\n",
       "      <td>None</td>\n",
       "      <td>NaN</td>\n",
       "      <td>None</td>\n",
       "      <td>NaN</td>\n",
       "    </tr>\n",
       "    <tr>\n",
       "      <th>4</th>\n",
       "      <td>319</td>\n",
       "      <td>Bear Call</td>\n",
       "      <td>Mild Risk 95-97% accuracy &gt; shorter expiry</td>\n",
       "      <td>0.0</td>\n",
       "      <td>NVDA</td>\n",
       "      <td>117.24</td>\n",
       "      <td>sell 130.0 - buy 140.0</td>\n",
       "      <td>140.0</td>\n",
       "      <td>130.0</td>\n",
       "      <td>90.0</td>\n",
       "      <td>108.66</td>\n",
       "      <td>2025-04-11T05:37:31.034455</td>\n",
       "      <td>2025-04-11</td>\n",
       "      <td>None</td>\n",
       "      <td>None</td>\n",
       "      <td>NaN</td>\n",
       "      <td>None</td>\n",
       "      <td>NaN</td>\n",
       "    </tr>\n",
       "    <tr>\n",
       "      <th>5</th>\n",
       "      <td>320</td>\n",
       "      <td>Bear Call</td>\n",
       "      <td>Mild Risk 95-97% accuracy &gt; shorter expiry</td>\n",
       "      <td>0.0</td>\n",
       "      <td>SPY</td>\n",
       "      <td>554.22</td>\n",
       "      <td>sell 575.0 - buy 585.0</td>\n",
       "      <td>585.0</td>\n",
       "      <td>575.0</td>\n",
       "      <td>151.0</td>\n",
       "      <td>528.03</td>\n",
       "      <td>2025-04-11T05:37:31.037866</td>\n",
       "      <td>2025-04-11</td>\n",
       "      <td>None</td>\n",
       "      <td>None</td>\n",
       "      <td>NaN</td>\n",
       "      <td>None</td>\n",
       "      <td>NaN</td>\n",
       "    </tr>\n",
       "    <tr>\n",
       "      <th>6</th>\n",
       "      <td>321</td>\n",
       "      <td>Bear Call</td>\n",
       "      <td>Minimal Risk 97-99% accuracy &gt; shorter expiry</td>\n",
       "      <td>0.0</td>\n",
       "      <td>META</td>\n",
       "      <td>603.87</td>\n",
       "      <td>sell 650.0 - buy 660.0</td>\n",
       "      <td>660.0</td>\n",
       "      <td>650.0</td>\n",
       "      <td>180.0</td>\n",
       "      <td>548.70</td>\n",
       "      <td>2025-04-11T05:37:31.050798</td>\n",
       "      <td>2025-04-11</td>\n",
       "      <td>None</td>\n",
       "      <td>None</td>\n",
       "      <td>NaN</td>\n",
       "      <td>None</td>\n",
       "      <td>NaN</td>\n",
       "    </tr>\n",
       "    <tr>\n",
       "      <th>7</th>\n",
       "      <td>322</td>\n",
       "      <td>Bear Call</td>\n",
       "      <td>Mild Risk 95-97% accuracy &gt; longer expiry</td>\n",
       "      <td>0.0</td>\n",
       "      <td>NVDA</td>\n",
       "      <td>116.51</td>\n",
       "      <td>sell 128.0 - buy 135.0</td>\n",
       "      <td>135.0</td>\n",
       "      <td>128.0</td>\n",
       "      <td>102.0</td>\n",
       "      <td>108.66</td>\n",
       "      <td>2025-04-11T05:37:31.014938</td>\n",
       "      <td>2025-04-11</td>\n",
       "      <td>None</td>\n",
       "      <td>None</td>\n",
       "      <td>NaN</td>\n",
       "      <td>None</td>\n",
       "      <td>NaN</td>\n",
       "    </tr>\n",
       "    <tr>\n",
       "      <th>8</th>\n",
       "      <td>323</td>\n",
       "      <td>Bear Call</td>\n",
       "      <td>Minimal Risk 97-99% accuracy &gt; longer expiry</td>\n",
       "      <td>0.0</td>\n",
       "      <td>UNH</td>\n",
       "      <td>598.07</td>\n",
       "      <td>sell 630.0 - buy 640.0</td>\n",
       "      <td>640.0</td>\n",
       "      <td>630.0</td>\n",
       "      <td>85.0</td>\n",
       "      <td>585.71</td>\n",
       "      <td>2025-04-11T05:37:31.044950</td>\n",
       "      <td>2025-04-11</td>\n",
       "      <td>None</td>\n",
       "      <td>None</td>\n",
       "      <td>NaN</td>\n",
       "      <td>None</td>\n",
       "      <td>NaN</td>\n",
       "    </tr>\n",
       "    <tr>\n",
       "      <th>9</th>\n",
       "      <td>324</td>\n",
       "      <td>Bull Put</td>\n",
       "      <td>Mild Risk 95-97% accuracy &gt; shorter expiry</td>\n",
       "      <td>0.0</td>\n",
       "      <td>JNJ</td>\n",
       "      <td>150</td>\n",
       "      <td>sell 135.0 - buy 130.0</td>\n",
       "      <td>130.0</td>\n",
       "      <td>135.0</td>\n",
       "      <td>34.0</td>\n",
       "      <td>148.69</td>\n",
       "      <td>2025-04-11T05:37:31.061854</td>\n",
       "      <td>2025-04-11</td>\n",
       "      <td>2025-04-10T16:30:03.556639</td>\n",
       "      <td>order placed</td>\n",
       "      <td>145.2</td>\n",
       "      <td>None</td>\n",
       "      <td>34.0</td>\n",
       "    </tr>\n",
       "    <tr>\n",
       "      <th>13</th>\n",
       "      <td>328</td>\n",
       "      <td>Bear Call</td>\n",
       "      <td>Mild Risk 95-97% accuracy &gt; shorter expiry</td>\n",
       "      <td>0.0</td>\n",
       "      <td>V</td>\n",
       "      <td>334.75</td>\n",
       "      <td>sell 350.0 - buy 360.0</td>\n",
       "      <td>360.0</td>\n",
       "      <td>350.0</td>\n",
       "      <td>250.0</td>\n",
       "      <td>324.61</td>\n",
       "      <td>2025-04-11T05:37:31.041209</td>\n",
       "      <td>2025-04-11T05:01:40.339451</td>\n",
       "      <td>None</td>\n",
       "      <td>None</td>\n",
       "      <td>NaN</td>\n",
       "      <td>None</td>\n",
       "      <td>NaN</td>\n",
       "    </tr>\n",
       "    <tr>\n",
       "      <th>19</th>\n",
       "      <td>334</td>\n",
       "      <td>Bull Put</td>\n",
       "      <td>Mild Risk 95-97% accuracy &gt; longer expiry</td>\n",
       "      <td>0.0</td>\n",
       "      <td>NKE</td>\n",
       "      <td>51.31</td>\n",
       "      <td>sell 49.0 - buy 40.0</td>\n",
       "      <td>40.0</td>\n",
       "      <td>49.0</td>\n",
       "      <td>205.0</td>\n",
       "      <td>54.70</td>\n",
       "      <td>2025-04-11T05:37:31.054998</td>\n",
       "      <td>2025-04-11T05:02:06.116088</td>\n",
       "      <td>None</td>\n",
       "      <td>None</td>\n",
       "      <td>NaN</td>\n",
       "      <td>None</td>\n",
       "      <td>NaN</td>\n",
       "    </tr>\n",
       "  </tbody>\n",
       "</table>\n",
       "</div>"
      ],
      "text/plain": [
       "     id strategy_type                                       tab_name   er  \\\n",
       "3   318     Bear Call     Mild Risk 95-97% accuracy > shorter expiry  0.0   \n",
       "4   319     Bear Call     Mild Risk 95-97% accuracy > shorter expiry  0.0   \n",
       "5   320     Bear Call     Mild Risk 95-97% accuracy > shorter expiry  0.0   \n",
       "6   321     Bear Call  Minimal Risk 97-99% accuracy > shorter expiry  0.0   \n",
       "7   322     Bear Call      Mild Risk 95-97% accuracy > longer expiry  0.0   \n",
       "8   323     Bear Call   Minimal Risk 97-99% accuracy > longer expiry  0.0   \n",
       "9   324      Bull Put     Mild Risk 95-97% accuracy > shorter expiry  0.0   \n",
       "13  328     Bear Call     Mild Risk 95-97% accuracy > shorter expiry  0.0   \n",
       "19  334      Bull Put      Mild Risk 95-97% accuracy > longer expiry  0.0   \n",
       "\n",
       "   ticker trigger_price            strike_price  strike_buy  strike_sell  \\\n",
       "3    MSFT        403.28  sell 425.0 - buy 435.0       435.0        425.0   \n",
       "4    NVDA        117.24  sell 130.0 - buy 140.0       140.0        130.0   \n",
       "5     SPY        554.22  sell 575.0 - buy 585.0       585.0        575.0   \n",
       "6    META        603.87  sell 650.0 - buy 660.0       660.0        650.0   \n",
       "7    NVDA        116.51  sell 128.0 - buy 135.0       135.0        128.0   \n",
       "8     UNH        598.07  sell 630.0 - buy 640.0       640.0        630.0   \n",
       "9     JNJ           150  sell 135.0 - buy 130.0       130.0        135.0   \n",
       "13      V        334.75  sell 350.0 - buy 360.0       360.0        350.0   \n",
       "19    NKE         51.31    sell 49.0 - buy 40.0        40.0         49.0   \n",
       "\n",
       "   estimated_premium  last_price_when_checked  \\\n",
       "3              153.0                   380.00   \n",
       "4               90.0                   108.66   \n",
       "5              151.0                   528.03   \n",
       "6              180.0                   548.70   \n",
       "7              102.0                   108.66   \n",
       "8               85.0                   585.71   \n",
       "9               34.0                   148.69   \n",
       "13             250.0                   324.61   \n",
       "19             205.0                    54.70   \n",
       "\n",
       "   timestamp_of_price_when_last_checked                 scrape_date  \\\n",
       "3            2025-04-11T05:37:31.030786                  2025-04-11   \n",
       "4            2025-04-11T05:37:31.034455                  2025-04-11   \n",
       "5            2025-04-11T05:37:31.037866                  2025-04-11   \n",
       "6            2025-04-11T05:37:31.050798                  2025-04-11   \n",
       "7            2025-04-11T05:37:31.014938                  2025-04-11   \n",
       "8            2025-04-11T05:37:31.044950                  2025-04-11   \n",
       "9            2025-04-11T05:37:31.061854                  2025-04-11   \n",
       "13           2025-04-11T05:37:31.041209  2025-04-11T05:01:40.339451   \n",
       "19           2025-04-11T05:37:31.054998  2025-04-11T05:02:06.116088   \n",
       "\n",
       "          timestamp_of_trigger strategy_status  price_when_triggered  \\\n",
       "3                         None            None                   NaN   \n",
       "4                         None            None                   NaN   \n",
       "5                         None            None                   NaN   \n",
       "6                         None            None                   NaN   \n",
       "7                         None            None                   NaN   \n",
       "8                         None            None                   NaN   \n",
       "9   2025-04-10T16:30:03.556639    order placed                 145.2   \n",
       "13                        None            None                   NaN   \n",
       "19                        None            None                   NaN   \n",
       "\n",
       "   price_when_order_placed  premium_when_last_checked  \n",
       "3                     None                        NaN  \n",
       "4                     None                        NaN  \n",
       "5                     None                        NaN  \n",
       "6                     None                        NaN  \n",
       "7                     None                        NaN  \n",
       "8                     None                        NaN  \n",
       "9                     None                       34.0  \n",
       "13                    None                        NaN  \n",
       "19                    None                        NaN  "
      ]
     },
     "execution_count": 4,
     "metadata": {},
     "output_type": "execute_result"
    }
   ],
   "source": [
    "import sqlite3\n",
    "import pandas as pd\n",
    "\n",
    "dat = sqlite3.connect('option_strategies.db')\n",
    "query = dat.execute(\"SELECT * From option_strategies\")\n",
    "cols = [column[0] for column in query.description]\n",
    "print(cols)\n",
    "results= pd.DataFrame.from_records(data = query.fetchall(), columns = cols)\n",
    "res = results[(results['ticker']!='None')]\n",
    "res[['id', 'strategy_type', 'tab_name', 'er', 'ticker','trigger_price', 'strike_price', 'strike_buy','strike_sell','estimated_premium', 'last_price_when_checked',\n",
    "         'timestamp_of_price_when_last_checked','scrape_date', 'timestamp_of_trigger','strategy_status', 'price_when_triggered', 'price_when_order_placed','premium_when_last_checked']].tail(9)"
   ]
  },
  {
   "cell_type": "markdown",
   "metadata": {},
   "source": [
    "## Delete ALL rows in SQLite database"
   ]
  },
  {
   "cell_type": "code",
   "execution_count": null,
   "metadata": {},
   "outputs": [],
   "source": [
    "stop"
   ]
  },
  {
   "cell_type": "code",
   "execution_count": null,
   "metadata": {},
   "outputs": [
    {
     "name": "stdout",
     "output_type": "stream",
     "text": [
      "We have deleted 20 records from the table.\n"
     ]
    }
   ],
   "source": [
    "\n",
    "import sqlite3\n",
    "\n",
    "conn = sqlite3.connect('option_strategies.db')\n",
    "c = conn.cursor()\n",
    "\n",
    "# Delete all rows from table\n",
    "c.execute('DELETE FROM option_strategies;',)\n",
    "\n",
    "print('We have deleted', c.rowcount, 'records from the table.')\n",
    "\n",
    "# Commit the changes to db\t\t\t\n",
    "conn.commit()\n",
    "# Close the connection\n",
    "conn.close()"
   ]
  },
  {
   "cell_type": "markdown",
   "metadata": {},
   "source": [
    "## Delete table"
   ]
  },
  {
   "cell_type": "code",
   "execution_count": null,
   "metadata": {},
   "outputs": [
    {
     "name": "stdout",
     "output_type": "stream",
     "text": [
      "data dropped successfully\n"
     ]
    }
   ],
   "source": [
    "\n",
    "# importing sqlite module \n",
    "import sqlite3 \n",
    "  \n",
    "# create connection to the  \n",
    "# database geek \n",
    "connection = sqlite3.connect('option_strategies.db') \n",
    "  \n",
    "# drop table \n",
    "connection.execute(\"DROP TABLE option_strategies\") \n",
    "  \n",
    "print(\"data dropped successfully\") \n",
    "  \n",
    "# close the connection \n",
    "connection.close() "
   ]
  },
  {
   "cell_type": "markdown",
   "metadata": {},
   "source": [
    "## Update Row"
   ]
  },
  {
   "cell_type": "code",
   "execution_count": 65,
   "metadata": {},
   "outputs": [],
   "source": [
    "import sqlite3\n",
    "# this just work by a row number and new trigger price \n",
    "# old trigger price for row 34: 166.68\n",
    "sql  = 'UPDATE option_strategies SET trigger_price=? WHERE id = ?'\n",
    "\n",
    "try:\n",
    "    with sqlite3.connect('option_strategies.db') as conn:\n",
    "        cur = conn.cursor()\n",
    "        cur.execute(sql, (150, 324))\n",
    "        conn.commit()\n",
    "except sqlite3.OperationalError as e:\n",
    "    print(e)"
   ]
  },
  {
   "cell_type": "markdown",
   "metadata": {},
   "source": [
    "## update estimated premium"
   ]
  },
  {
   "cell_type": "code",
   "execution_count": 37,
   "metadata": {},
   "outputs": [],
   "source": [
    "import sqlite3\n",
    "# this just work by a row number and new trigger price \n",
    "# old trigger price for row 34: 166.68\n",
    "sql  = 'UPDATE option_strategies SET estimated_premium=? WHERE id = ?'\n",
    "\n",
    "try:\n",
    "    with sqlite3.connect('option_strategies.db') as conn:\n",
    "        cur = conn.cursor()\n",
    "        cur.execute(sql, (34, 324))\n",
    "        conn.commit()\n",
    "except sqlite3.OperationalError as e:\n",
    "    print(e)"
   ]
  },
  {
   "cell_type": "markdown",
   "metadata": {},
   "source": [
    "## Change columns entries 'strategy_status'"
   ]
  },
  {
   "cell_type": "code",
   "execution_count": 41,
   "metadata": {},
   "outputs": [
    {
     "name": "stdout",
     "output_type": "stream",
     "text": [
      "1 rows updated.\n"
     ]
    }
   ],
   "source": [
    "import sqlite3\n",
    "\n",
    "def update_strategy_status():\n",
    "    try:\n",
    "        # Connect to the SQLite database\n",
    "        conn = sqlite3.connect('option_strategies.db')\n",
    "        cursor = conn.cursor()\n",
    "        \n",
    "        # Define the SQL update query\n",
    "        update_query = \"\"\"\n",
    "        UPDATE option_strategies\n",
    "        SET strategy_status = 'triggered'\n",
    "        WHERE strategy_status = 'order placed';\n",
    "        \"\"\"\n",
    "        \n",
    "        # Execute the update query\n",
    "        cursor.execute(update_query)\n",
    "        conn.commit()\n",
    "        \n",
    "        # Report the number of rows updated\n",
    "        print(f\"{cursor.rowcount} rows updated.\")\n",
    "        \n",
    "    except sqlite3.Error as error:\n",
    "        print(\"Error while updating SQLite table:\", error)\n",
    "    finally:\n",
    "        # Ensure that the connection is closed\n",
    "        if conn:\n",
    "            conn.close()\n",
    "\n",
    "if __name__ == \"__main__\":\n",
    "    update_strategy_status()\n",
    "\n"
   ]
  },
  {
   "cell_type": "markdown",
   "metadata": {},
   "source": [
    " ## Change columns entries 'scrape_date'"
   ]
  },
  {
   "cell_type": "code",
   "execution_count": 2,
   "metadata": {},
   "outputs": [
    {
     "name": "stdout",
     "output_type": "stream",
     "text": [
      "13 rows updated.\n"
     ]
    }
   ],
   "source": [
    "import sqlite3\n",
    "\n",
    "def update_scrape_date():\n",
    "    try:\n",
    "        # Connect to the SQLite database\n",
    "        conn = sqlite3.connect('option_strategies.db')\n",
    "        cursor = conn.cursor()\n",
    "        \n",
    "        # Update query: change scrape_date to '2025-04-06'\n",
    "        # where the date portion of scrape_date is '2025-04-03'\n",
    "        update_query = \"\"\"\n",
    "        UPDATE option_strategies\n",
    "        SET scrape_date = '2025-04-11'\n",
    "        WHERE DATE(scrape_date) = '2025-04-10';  \n",
    "        \"\"\"\n",
    "        \n",
    "        # Execute the update query\n",
    "        cursor.execute(update_query)\n",
    "        conn.commit()\n",
    "        \n",
    "        # Output the number of rows updated\n",
    "        print(f\"{cursor.rowcount} rows updated.\")\n",
    "        \n",
    "    except sqlite3.Error as error:\n",
    "        print(\"Error updating scrape_date:\", error)\n",
    "    finally:\n",
    "        # Ensure the connection is closed\n",
    "        if conn:\n",
    "            conn.close()\n",
    "\n",
    "if __name__ == \"__main__\":\n",
    "    update_scrape_date()\n",
    "\n"
   ]
  },
  {
   "cell_type": "markdown",
   "metadata": {},
   "source": [
    "## Add New column"
   ]
  },
  {
   "cell_type": "code",
   "execution_count": null,
   "metadata": {},
   "outputs": [
    {
     "name": "stderr",
     "output_type": "stream",
     "text": [
      "2025-04-06 08:14:48,843 - ERROR - SQLite error: no such table: option_strategies\n"
     ]
    }
   ],
   "source": [
    "import sqlite3\n",
    "import logging\n",
    "\n",
    "# Set up logging\n",
    "logging.basicConfig(level=logging.INFO, format='%(asctime)s - %(levelname)s - %(message)s')\n",
    "logger = logging.getLogger(__name__)\n",
    "\n",
    "def add_premium_column():\n",
    "    \"\"\"Add a 'timestamp_of_order ' column to the option_strategies table.\"\"\"\n",
    "    conn = None\n",
    "    try:\n",
    "        # Connect to the database\n",
    "        conn = sqlite3.connect('option_strategies.db')\n",
    "        cursor = conn.cursor()\n",
    "        \n",
    "        # Check if the column already exists\n",
    "        cursor.execute(\"PRAGMA table_info(option_strategies)\")\n",
    "        columns = [col[1] for col in cursor.fetchall()]\n",
    "        \n",
    "        if 'timestamp_of_order ' in columns:\n",
    "            logger.info(\"Column 'timestamp_of_order  already exists in the table.\")\n",
    "            return\n",
    "        \n",
    "        # Add the new column - using REAL type for storing decimal/float values\n",
    "        cursor.execute(\"\"\"\n",
    "            ALTER TABLE option_strategies \n",
    "            ADD COLUMN timestamp_of_order DATETIME\n",
    "        \"\"\")\n",
    "        \n",
    "        conn.commit()\n",
    "        logger.info(\"Successfully added 'timestamp_of_order' column to option_strategies table.\")\n",
    "        \n",
    "    except sqlite3.Error as e:\n",
    "        logger.error(f\"SQLite error: {e}\")\n",
    "        if conn:\n",
    "            conn.rollback()\n",
    "    finally:\n",
    "        if conn:\n",
    "            conn.close()\n",
    "\n",
    "if __name__ == \"__main__\":\n",
    "    add_premium_column()"
   ]
  },
  {
   "cell_type": "markdown",
   "metadata": {},
   "source": [
    "## Query a section of the database"
   ]
  },
  {
   "cell_type": "code",
   "execution_count": null,
   "metadata": {},
   "outputs": [
    {
     "ename": "OperationalError",
     "evalue": "no such table: option_strategies",
     "output_type": "error",
     "traceback": [
      "\u001b[0;31m---------------------------------------------------------------------------\u001b[0m",
      "\u001b[0;31mOperationalError\u001b[0m                          Traceback (most recent call last)",
      "Cell \u001b[0;32mIn[68], line 8\u001b[0m\n\u001b[1;32m      2\u001b[0m dat \u001b[38;5;241m=\u001b[39m sqlite3\u001b[38;5;241m.\u001b[39mconnect(\u001b[38;5;124m'\u001b[39m\u001b[38;5;124moption_strategies.db\u001b[39m\u001b[38;5;124m'\u001b[39m)\n\u001b[1;32m      3\u001b[0m query_text \u001b[38;5;241m=\u001b[39m \u001b[38;5;124mf\u001b[39m\u001b[38;5;124m\"\"\"\u001b[39m\n\u001b[1;32m      4\u001b[0m \u001b[38;5;124m    SELECT * FROM option_strategies \u001b[39m\n\u001b[1;32m      5\u001b[0m \u001b[38;5;124m    WHERE date(scrape_date) = \u001b[39m\u001b[38;5;124m'\u001b[39m\u001b[38;5;132;01m{\u001b[39;00mstart_date\u001b[38;5;132;01m}\u001b[39;00m\u001b[38;5;124m'\u001b[39m\n\u001b[1;32m      6\u001b[0m \u001b[38;5;124m    AND strategy_status = \u001b[39m\u001b[38;5;124m'\u001b[39m\u001b[38;5;124mtriggered\u001b[39m\u001b[38;5;124m'\u001b[39m\n\u001b[1;32m      7\u001b[0m \u001b[38;5;124m    \u001b[39m\u001b[38;5;124m\"\"\"\u001b[39m\n\u001b[0;32m----> 8\u001b[0m query \u001b[38;5;241m=\u001b[39m \u001b[43mdat\u001b[49m\u001b[38;5;241;43m.\u001b[39;49m\u001b[43mexecute\u001b[49m\u001b[43m(\u001b[49m\u001b[43mquery_text\u001b[49m\u001b[43m)\u001b[49m\n\u001b[1;32m      9\u001b[0m cols \u001b[38;5;241m=\u001b[39m [column[\u001b[38;5;241m0\u001b[39m] \u001b[38;5;28;01mfor\u001b[39;00m column \u001b[38;5;129;01min\u001b[39;00m query\u001b[38;5;241m.\u001b[39mdescription]\n\u001b[1;32m     10\u001b[0m results\u001b[38;5;241m=\u001b[39m pd\u001b[38;5;241m.\u001b[39mDataFrame\u001b[38;5;241m.\u001b[39mfrom_records(data \u001b[38;5;241m=\u001b[39m query\u001b[38;5;241m.\u001b[39mfetchall(), columns \u001b[38;5;241m=\u001b[39m cols)\n",
      "\u001b[0;31mOperationalError\u001b[0m: no such table: option_strategies"
     ]
    }
   ],
   "source": [
    "\n",
    "\n",
    "start_date = '2025-03-29'\n",
    "dat = sqlite3.connect('option_strategies.db')\n",
    "query_text = f\"\"\"\n",
    "    SELECT * FROM option_strategies \n",
    "    WHERE date(scrape_date) = '{start_date}'\n",
    "    AND strategy_status = 'triggered'\n",
    "    \"\"\"\n",
    "query = dat.execute(query_text)\n",
    "cols = [column[0] for column in query.description]\n",
    "results= pd.DataFrame.from_records(data = query.fetchall(), columns = cols)\n",
    "results"
   ]
  },
  {
   "cell_type": "markdown",
   "metadata": {},
   "source": [
    "## Delete all row except 1"
   ]
  },
  {
   "cell_type": "code",
   "execution_count": 23,
   "metadata": {},
   "outputs": [
    {
     "name": "stdout",
     "output_type": "stream",
     "text": [
      "Rows deleted except the one with id = 312.\n"
     ]
    }
   ],
   "source": [
    "import sqlite3\n",
    "\n",
    "# Connect to your database\n",
    "conn = sqlite3.connect('option_strategies.db')\n",
    "cur= conn.cursor()\n",
    "\n",
    "# Delete all rows except the one where id = 312\n",
    "cur.execute(\"DELETE FROM option_strategies WHERE id != ?\", (312,))\n",
    "\n",
    "# Commit changes and close connection\n",
    "conn.commit()\n",
    "conn.close()\n",
    "\n",
    "print(\"Rows deleted except the one with id = 312.\")"
   ]
  },
  {
   "cell_type": "markdown",
   "metadata": {},
   "source": [
    "## Change Ticker symbol"
   ]
  },
  {
   "cell_type": "markdown",
   "metadata": {},
   "source": []
  },
  {
   "cell_type": "code",
   "execution_count": 61,
   "metadata": {},
   "outputs": [],
   "source": [
    "import sqlite3\n",
    "# this just work by a row number and new trigger price \n",
    "# old trigger price for row 34: 166.68\n",
    "sql  = 'UPDATE option_strategies SET ticker=?, trigger_price=?, strike_buy=?, strike_sell=? WHERE id = ?'\n",
    "try:\n",
    "    with sqlite3.connect('option_strategies.db') as conn:\n",
    "        cur = conn.cursor()\n",
    "        cur.execute(sql, ('BBY', 650, 680, 690, 312))\n",
    "        conn.commit()\n",
    "except sqlite3.OperationalError as e:\n",
    "    print(e)"
   ]
  },
  {
   "cell_type": "code",
   "execution_count": null,
   "metadata": {},
   "outputs": [],
   "source": []
  }
 ],
 "metadata": {
  "kernelspec": {
   "display_name": "optcom3_12",
   "language": "python",
   "name": "python3"
  },
  "language_info": {
   "codemirror_mode": {
    "name": "ipython",
    "version": 3
   },
   "file_extension": ".py",
   "mimetype": "text/x-python",
   "name": "python",
   "nbconvert_exporter": "python",
   "pygments_lexer": "ipython3",
   "version": "3.12.9"
  }
 },
 "nbformat": 4,
 "nbformat_minor": 2
}
