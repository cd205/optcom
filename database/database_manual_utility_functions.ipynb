{
 "cells": [
  {
   "cell_type": "markdown",
   "metadata": {},
   "source": [
    "## Veiew DB in panadas"
   ]
  },
  {
   "cell_type": "code",
   "execution_count": 16,
   "metadata": {},
   "outputs": [
    {
     "name": "stdout",
     "output_type": "stream",
     "text": [
      "['id', 'scrape_date', 'strategy_type', 'tab_name', 'ticker', 'er', 'INTEGER', 'trigger_price', 'strike_price', 'strike_buy', 'strike_sell', 'estimated_premium', 'last_price_when_checked', 'timestamp_of_price_when_last_checked', 'item_id', 'options_expiry_date', 'date_info', 'timestamp_of_trigger', 'strategy_status', 'price_when_triggered', 'price_when_order_placed', 'premium_at_order', 'premium_when_last_checked', 'timestamp_of_order']\n"
     ]
    },
    {
     "data": {
      "text/html": [
       "<div>\n",
       "<style scoped>\n",
       "    .dataframe tbody tr th:only-of-type {\n",
       "        vertical-align: middle;\n",
       "    }\n",
       "\n",
       "    .dataframe tbody tr th {\n",
       "        vertical-align: top;\n",
       "    }\n",
       "\n",
       "    .dataframe thead th {\n",
       "        text-align: right;\n",
       "    }\n",
       "</style>\n",
       "<table border=\"1\" class=\"dataframe\">\n",
       "  <thead>\n",
       "    <tr style=\"text-align: right;\">\n",
       "      <th></th>\n",
       "      <th>id</th>\n",
       "      <th>strategy_type</th>\n",
       "      <th>tab_name</th>\n",
       "      <th>er</th>\n",
       "      <th>ticker</th>\n",
       "      <th>trigger_price</th>\n",
       "      <th>strike_price</th>\n",
       "      <th>strike_buy</th>\n",
       "      <th>strike_sell</th>\n",
       "      <th>estimated_premium</th>\n",
       "      <th>last_price_when_checked</th>\n",
       "      <th>timestamp_of_price_when_last_checked</th>\n",
       "      <th>scrape_date</th>\n",
       "      <th>timestamp_of_trigger</th>\n",
       "      <th>strategy_status</th>\n",
       "      <th>price_when_triggered</th>\n",
       "      <th>price_when_order_placed</th>\n",
       "      <th>premium_when_last_checked</th>\n",
       "    </tr>\n",
       "  </thead>\n",
       "  <tbody>\n",
       "    <tr>\n",
       "      <th>0</th>\n",
       "      <td>1</td>\n",
       "      <td>Bear Call</td>\n",
       "      <td>Mild Risk 95-97% accuracy &gt; shorter expiry</td>\n",
       "      <td>0.0</td>\n",
       "      <td>V</td>\n",
       "      <td>334.75</td>\n",
       "      <td>sell 350.0 - buy 360.0</td>\n",
       "      <td>360.0</td>\n",
       "      <td>350.0</td>\n",
       "      <td>250.0</td>\n",
       "      <td>333.40</td>\n",
       "      <td>2025-04-11T20:30:59.858920</td>\n",
       "      <td>2025-04-11T15:49:43.519952</td>\n",
       "      <td>2025-04-11T17:40:22.083391</td>\n",
       "      <td>insufficient market data</td>\n",
       "      <td>335.50</td>\n",
       "      <td>None</td>\n",
       "      <td>0.000000</td>\n",
       "    </tr>\n",
       "    <tr>\n",
       "      <th>6</th>\n",
       "      <td>7</td>\n",
       "      <td>Bull Put</td>\n",
       "      <td>Mild Risk 95-97% accuracy &gt; longer expiry</td>\n",
       "      <td>0.0</td>\n",
       "      <td>NKE</td>\n",
       "      <td>55</td>\n",
       "      <td>sell 49.0 - buy 40.0</td>\n",
       "      <td>40.0</td>\n",
       "      <td>49.0</td>\n",
       "      <td>100.0</td>\n",
       "      <td>54.33</td>\n",
       "      <td>2025-04-11T20:30:59.868610</td>\n",
       "      <td>2025-04-11T15:50:09.447411</td>\n",
       "      <td>2025-04-11T16:26:34.591504</td>\n",
       "      <td>order placed</td>\n",
       "      <td>53.81</td>\n",
       "      <td>None</td>\n",
       "      <td>109.949105</td>\n",
       "    </tr>\n",
       "    <tr>\n",
       "      <th>8</th>\n",
       "      <td>180</td>\n",
       "      <td>Bear Call</td>\n",
       "      <td>Mild Risk 95-97% accuracy &gt; shorter expiry</td>\n",
       "      <td>NaN</td>\n",
       "      <td>GOOGL</td>\n",
       "      <td>164.3</td>\n",
       "      <td>sell 175.0 - buy 185.0</td>\n",
       "      <td>185.0</td>\n",
       "      <td>175.0</td>\n",
       "      <td>75.0</td>\n",
       "      <td>NaN</td>\n",
       "      <td>None</td>\n",
       "      <td>2025-04-14T07:32:32.512393</td>\n",
       "      <td>None</td>\n",
       "      <td>None</td>\n",
       "      <td>NaN</td>\n",
       "      <td>None</td>\n",
       "      <td>NaN</td>\n",
       "    </tr>\n",
       "    <tr>\n",
       "      <th>9</th>\n",
       "      <td>181</td>\n",
       "      <td>Bear Call</td>\n",
       "      <td>Mild Risk 95-97% accuracy &gt; shorter expiry</td>\n",
       "      <td>NaN</td>\n",
       "      <td>SPY</td>\n",
       "      <td>537.02</td>\n",
       "      <td>sell 560.0 - buy 570.0</td>\n",
       "      <td>570.0</td>\n",
       "      <td>560.0</td>\n",
       "      <td>218.0</td>\n",
       "      <td>NaN</td>\n",
       "      <td>None</td>\n",
       "      <td>2025-04-14T07:32:32.610704</td>\n",
       "      <td>None</td>\n",
       "      <td>None</td>\n",
       "      <td>NaN</td>\n",
       "      <td>None</td>\n",
       "      <td>NaN</td>\n",
       "    </tr>\n",
       "    <tr>\n",
       "      <th>13</th>\n",
       "      <td>185</td>\n",
       "      <td>Bull Put</td>\n",
       "      <td>Mild Risk 95-97% accuracy &gt; shorter expiry</td>\n",
       "      <td>NaN</td>\n",
       "      <td>GOOGL</td>\n",
       "      <td>147.77</td>\n",
       "      <td>sell 140.0 - buy 130.0</td>\n",
       "      <td>130.0</td>\n",
       "      <td>140.0</td>\n",
       "      <td>155.0</td>\n",
       "      <td>NaN</td>\n",
       "      <td>None</td>\n",
       "      <td>2025-04-14T07:32:52.840046</td>\n",
       "      <td>None</td>\n",
       "      <td>None</td>\n",
       "      <td>NaN</td>\n",
       "      <td>None</td>\n",
       "      <td>NaN</td>\n",
       "    </tr>\n",
       "    <tr>\n",
       "      <th>14</th>\n",
       "      <td>186</td>\n",
       "      <td>Bull Put</td>\n",
       "      <td>Mild Risk 95-97% accuracy &gt; shorter expiry</td>\n",
       "      <td>NaN</td>\n",
       "      <td>NKE</td>\n",
       "      <td>51.95</td>\n",
       "      <td>sell 49.0 - buy 40.0</td>\n",
       "      <td>40.0</td>\n",
       "      <td>49.0</td>\n",
       "      <td>101.0</td>\n",
       "      <td>NaN</td>\n",
       "      <td>None</td>\n",
       "      <td>2025-04-14T07:32:52.922381</td>\n",
       "      <td>None</td>\n",
       "      <td>None</td>\n",
       "      <td>NaN</td>\n",
       "      <td>None</td>\n",
       "      <td>NaN</td>\n",
       "    </tr>\n",
       "    <tr>\n",
       "      <th>15</th>\n",
       "      <td>187</td>\n",
       "      <td>Bull Put</td>\n",
       "      <td>Mild Risk 95-97% accuracy &gt; shorter expiry</td>\n",
       "      <td>NaN</td>\n",
       "      <td>TSM</td>\n",
       "      <td>141.03</td>\n",
       "      <td>sell 135.0 - buy 125.0</td>\n",
       "      <td>125.0</td>\n",
       "      <td>135.0</td>\n",
       "      <td>212.0</td>\n",
       "      <td>NaN</td>\n",
       "      <td>None</td>\n",
       "      <td>2025-04-14T07:32:53.010932</td>\n",
       "      <td>None</td>\n",
       "      <td>None</td>\n",
       "      <td>NaN</td>\n",
       "      <td>None</td>\n",
       "      <td>NaN</td>\n",
       "    </tr>\n",
       "    <tr>\n",
       "      <th>17</th>\n",
       "      <td>189</td>\n",
       "      <td>Bull Put</td>\n",
       "      <td>Mild Risk 95-97% accuracy &gt; longer expiry</td>\n",
       "      <td>NaN</td>\n",
       "      <td>NKE</td>\n",
       "      <td>51.56</td>\n",
       "      <td>sell 49.0 - buy 40.0</td>\n",
       "      <td>40.0</td>\n",
       "      <td>49.0</td>\n",
       "      <td>170.0</td>\n",
       "      <td>NaN</td>\n",
       "      <td>None</td>\n",
       "      <td>2025-04-14T07:33:00.143576</td>\n",
       "      <td>None</td>\n",
       "      <td>None</td>\n",
       "      <td>NaN</td>\n",
       "      <td>None</td>\n",
       "      <td>NaN</td>\n",
       "    </tr>\n",
       "  </tbody>\n",
       "</table>\n",
       "</div>"
      ],
      "text/plain": [
       "     id strategy_type                                    tab_name   er ticker  \\\n",
       "0     1     Bear Call  Mild Risk 95-97% accuracy > shorter expiry  0.0      V   \n",
       "6     7      Bull Put   Mild Risk 95-97% accuracy > longer expiry  0.0    NKE   \n",
       "8   180     Bear Call  Mild Risk 95-97% accuracy > shorter expiry  NaN  GOOGL   \n",
       "9   181     Bear Call  Mild Risk 95-97% accuracy > shorter expiry  NaN    SPY   \n",
       "13  185      Bull Put  Mild Risk 95-97% accuracy > shorter expiry  NaN  GOOGL   \n",
       "14  186      Bull Put  Mild Risk 95-97% accuracy > shorter expiry  NaN    NKE   \n",
       "15  187      Bull Put  Mild Risk 95-97% accuracy > shorter expiry  NaN    TSM   \n",
       "17  189      Bull Put   Mild Risk 95-97% accuracy > longer expiry  NaN    NKE   \n",
       "\n",
       "   trigger_price            strike_price  strike_buy  strike_sell  \\\n",
       "0         334.75  sell 350.0 - buy 360.0       360.0        350.0   \n",
       "6             55    sell 49.0 - buy 40.0        40.0         49.0   \n",
       "8          164.3  sell 175.0 - buy 185.0       185.0        175.0   \n",
       "9         537.02  sell 560.0 - buy 570.0       570.0        560.0   \n",
       "13        147.77  sell 140.0 - buy 130.0       130.0        140.0   \n",
       "14         51.95    sell 49.0 - buy 40.0        40.0         49.0   \n",
       "15        141.03  sell 135.0 - buy 125.0       125.0        135.0   \n",
       "17         51.56    sell 49.0 - buy 40.0        40.0         49.0   \n",
       "\n",
       "   estimated_premium  last_price_when_checked  \\\n",
       "0              250.0                   333.40   \n",
       "6              100.0                    54.33   \n",
       "8               75.0                      NaN   \n",
       "9              218.0                      NaN   \n",
       "13             155.0                      NaN   \n",
       "14             101.0                      NaN   \n",
       "15             212.0                      NaN   \n",
       "17             170.0                      NaN   \n",
       "\n",
       "   timestamp_of_price_when_last_checked                 scrape_date  \\\n",
       "0            2025-04-11T20:30:59.858920  2025-04-11T15:49:43.519952   \n",
       "6            2025-04-11T20:30:59.868610  2025-04-11T15:50:09.447411   \n",
       "8                                  None  2025-04-14T07:32:32.512393   \n",
       "9                                  None  2025-04-14T07:32:32.610704   \n",
       "13                                 None  2025-04-14T07:32:52.840046   \n",
       "14                                 None  2025-04-14T07:32:52.922381   \n",
       "15                                 None  2025-04-14T07:32:53.010932   \n",
       "17                                 None  2025-04-14T07:33:00.143576   \n",
       "\n",
       "          timestamp_of_trigger           strategy_status  \\\n",
       "0   2025-04-11T17:40:22.083391  insufficient market data   \n",
       "6   2025-04-11T16:26:34.591504              order placed   \n",
       "8                         None                      None   \n",
       "9                         None                      None   \n",
       "13                        None                      None   \n",
       "14                        None                      None   \n",
       "15                        None                      None   \n",
       "17                        None                      None   \n",
       "\n",
       "    price_when_triggered price_when_order_placed  premium_when_last_checked  \n",
       "0                 335.50                    None                   0.000000  \n",
       "6                  53.81                    None                 109.949105  \n",
       "8                    NaN                    None                        NaN  \n",
       "9                    NaN                    None                        NaN  \n",
       "13                   NaN                    None                        NaN  \n",
       "14                   NaN                    None                        NaN  \n",
       "15                   NaN                    None                        NaN  \n",
       "17                   NaN                    None                        NaN  "
      ]
     },
     "execution_count": 16,
     "metadata": {},
     "output_type": "execute_result"
    }
   ],
   "source": [
    "import sqlite3\n",
    "import pandas as pd\n",
    "\n",
    "dat = sqlite3.connect('option_strategies.db')\n",
    "query = dat.execute(\"SELECT * From option_strategies\")\n",
    "cols = [column[0] for column in query.description]\n",
    "print(cols)\n",
    "results= pd.DataFrame.from_records(data = query.fetchall(), columns = cols)\n",
    "res = results[(results['ticker']!='None')]\n",
    "res[['id', 'strategy_type', 'tab_name', 'er', 'ticker','trigger_price', 'strike_price', 'strike_buy','strike_sell','estimated_premium', 'last_price_when_checked',\n",
    "         'timestamp_of_price_when_last_checked','scrape_date', 'timestamp_of_trigger','strategy_status', 'price_when_triggered', 'price_when_order_placed','premium_when_last_checked']].tail(9)"
   ]
  },
  {
   "cell_type": "markdown",
   "metadata": {},
   "source": [
    "## Delete ALL rows in SQLite database"
   ]
  },
  {
   "cell_type": "code",
   "execution_count": 16,
   "metadata": {},
   "outputs": [
    {
     "ename": "NameError",
     "evalue": "name 'stop' is not defined",
     "output_type": "error",
     "traceback": [
      "\u001b[31m---------------------------------------------------------------------------\u001b[39m",
      "\u001b[31mNameError\u001b[39m                                 Traceback (most recent call last)",
      "\u001b[36mCell\u001b[39m\u001b[36m \u001b[39m\u001b[32mIn[16]\u001b[39m\u001b[32m, line 1\u001b[39m\n\u001b[32m----> \u001b[39m\u001b[32m1\u001b[39m \u001b[43mstop\u001b[49m\n",
      "\u001b[31mNameError\u001b[39m: name 'stop' is not defined"
     ]
    }
   ],
   "source": [
    "stop"
   ]
  },
  {
   "cell_type": "code",
   "execution_count": null,
   "metadata": {},
   "outputs": [
    {
     "name": "stdout",
     "output_type": "stream",
     "text": [
      "We have deleted 20 records from the table.\n"
     ]
    }
   ],
   "source": [
    "\n",
    "import sqlite3\n",
    "\n",
    "conn = sqlite3.connect('option_strategies.db')\n",
    "c = conn.cursor()\n",
    "\n",
    "# Delete all rows from table\n",
    "c.execute('DELETE FROM option_strategies;',)\n",
    "\n",
    "print('We have deleted', c.rowcount, 'records from the table.')\n",
    "\n",
    "# Commit the changes to db\t\t\t\n",
    "conn.commit()\n",
    "# Close the connection\n",
    "conn.close()"
   ]
  },
  {
   "cell_type": "markdown",
   "metadata": {},
   "source": [
    "## Delete table"
   ]
  },
  {
   "cell_type": "code",
   "execution_count": 32,
   "metadata": {},
   "outputs": [
    {
     "name": "stdout",
     "output_type": "stream",
     "text": [
      "data dropped successfully\n"
     ]
    }
   ],
   "source": [
    "\n",
    "# importing sqlite module \n",
    "import sqlite3 \n",
    "  \n",
    "# create connection to the  \n",
    "# database geek \n",
    "connection = sqlite3.connect('option_strategies.db') \n",
    "  \n",
    "# drop table \n",
    "connection.execute(\"DROP TABLE option_strategies\") \n",
    "  \n",
    "print(\"data dropped successfully\") \n",
    "  \n",
    "# close the connection \n",
    "connection.close() "
   ]
  },
  {
   "cell_type": "markdown",
   "metadata": {},
   "source": [
    "## Update Row"
   ]
  },
  {
   "cell_type": "code",
   "execution_count": 38,
   "metadata": {},
   "outputs": [],
   "source": [
    "import sqlite3\n",
    "# this just work by a row number and new trigger price \n",
    "# old trigger price for row 34: 166.68\n",
    "sql  = 'UPDATE option_strategies SET trigger_price=? WHERE id = ?'\n",
    "\n",
    "try:\n",
    "    with sqlite3.connect('option_strategies.db') as conn:\n",
    "        cur = conn.cursor()\n",
    "        cur.execute(sql, (55, 7))\n",
    "        conn.commit()\n",
    "except sqlite3.OperationalError as e:\n",
    "    print(e)"
   ]
  },
  {
   "cell_type": "markdown",
   "metadata": {},
   "source": [
    "## update estimated premium"
   ]
  },
  {
   "cell_type": "code",
   "execution_count": 65,
   "metadata": {},
   "outputs": [],
   "source": [
    "import sqlite3\n",
    "# this just work by a row number and new trigger price \n",
    "# old trigger price for row 34: 166.68\n",
    "sql  = 'UPDATE option_strategies SET estimated_premium=? WHERE id = ?'\n",
    "\n",
    "try:\n",
    "    with sqlite3.connect('option_strategies.db') as conn:\n",
    "        cur = conn.cursor()\n",
    "        cur.execute(sql, (100, 7))\n",
    "        conn.commit()\n",
    "except sqlite3.OperationalError as e:\n",
    "    print(e)"
   ]
  },
  {
   "cell_type": "markdown",
   "metadata": {},
   "source": [
    "## Change columns entries 'strategy_status'"
   ]
  },
  {
   "cell_type": "code",
   "execution_count": 62,
   "metadata": {},
   "outputs": [
    {
     "name": "stdout",
     "output_type": "stream",
     "text": [
      "1 rows updated.\n"
     ]
    }
   ],
   "source": [
    "import sqlite3\n",
    "\n",
    "def update_strategy_status():\n",
    "    try:\n",
    "        # Connect to the SQLite database\n",
    "        conn = sqlite3.connect('option_strategies.db')\n",
    "        cursor = conn.cursor()\n",
    "        \n",
    "        # Define the SQL update query\n",
    "        update_query = \"\"\"\n",
    "        UPDATE option_strategies\n",
    "        SET strategy_status = 'triggered'\n",
    "        WHERE strategy_status = 'premium too low';\n",
    "        \"\"\"\n",
    "        \n",
    "        # Execute the update query\n",
    "        cursor.execute(update_query)\n",
    "        conn.commit()\n",
    "        \n",
    "        # Report the number of rows updated\n",
    "        print(f\"{cursor.rowcount} rows updated.\")\n",
    "        \n",
    "    except sqlite3.Error as error:\n",
    "        print(\"Error while updating SQLite table:\", error)\n",
    "    finally:\n",
    "        # Ensure that the connection is closed\n",
    "        if conn:\n",
    "            conn.close()\n",
    "\n",
    "if __name__ == \"__main__\":\n",
    "    update_strategy_status()\n",
    "\n"
   ]
  },
  {
   "cell_type": "markdown",
   "metadata": {},
   "source": [
    " ## Change columns entries 'scrape_date'"
   ]
  },
  {
   "cell_type": "code",
   "execution_count": null,
   "metadata": {},
   "outputs": [
    {
     "name": "stdout",
     "output_type": "stream",
     "text": [
      "13 rows updated.\n"
     ]
    }
   ],
   "source": [
    "import sqlite3\n",
    "\n",
    "def update_scrape_date():\n",
    "    try:\n",
    "        # Connect to the SQLite database\n",
    "        conn = sqlite3.connect('option_strategies.db')\n",
    "        cursor = conn.cursor()\n",
    "        \n",
    "        # Update query: change scrape_date to '2025-04-06'\n",
    "        # where the date portion of scrape_date is '2025-04-03'\n",
    "        update_query = \"\"\"\n",
    "        UPDATE option_strategies\n",
    "        SET scrape_date = '2025-04-11'\n",
    "        WHERE DATE(scrape_date) = '2025-04-10';  \n",
    "        \"\"\"\n",
    "        \n",
    "        # Execute the update query\n",
    "        cursor.execute(update_query)\n",
    "        conn.commit()\n",
    "        \n",
    "        # Output the number of rows updated\n",
    "        print(f\"{cursor.rowcount} rows updated.\")\n",
    "        \n",
    "    except sqlite3.Error as error:\n",
    "        print(\"Error updating scrape_date:\", error)\n",
    "    finally:\n",
    "        # Ensure the connection is closed\n",
    "        if conn:\n",
    "            conn.close()\n",
    "\n",
    "if __name__ == \"__main__\":\n",
    "    update_scrape_date()\n",
    "\n"
   ]
  },
  {
   "cell_type": "markdown",
   "metadata": {},
   "source": [
    "## Add New column"
   ]
  },
  {
   "cell_type": "code",
   "execution_count": null,
   "metadata": {},
   "outputs": [
    {
     "name": "stderr",
     "output_type": "stream",
     "text": [
      "2025-04-06 08:14:48,843 - ERROR - SQLite error: no such table: option_strategies\n"
     ]
    }
   ],
   "source": [
    "import sqlite3\n",
    "import logging\n",
    "\n",
    "# Set up logging\n",
    "logging.basicConfig(level=logging.INFO, format='%(asctime)s - %(levelname)s - %(message)s')\n",
    "logger = logging.getLogger(__name__)\n",
    "\n",
    "def add_premium_column():\n",
    "    \"\"\"Add a 'timestamp_of_order ' column to the option_strategies table.\"\"\"\n",
    "    conn = None\n",
    "    try:\n",
    "        # Connect to the database\n",
    "        conn = sqlite3.connect('option_strategies.db')\n",
    "        cursor = conn.cursor()\n",
    "        \n",
    "        # Check if the column already exists\n",
    "        cursor.execute(\"PRAGMA table_info(option_strategies)\")\n",
    "        columns = [col[1] for col in cursor.fetchall()]\n",
    "        \n",
    "        if 'timestamp_of_order ' in columns:\n",
    "            logger.info(\"Column 'timestamp_of_order  already exists in the table.\")\n",
    "            return\n",
    "        \n",
    "        # Add the new column - using REAL type for storing decimal/float values\n",
    "        cursor.execute(\"\"\"\n",
    "            ALTER TABLE option_strategies \n",
    "            ADD COLUMN timestamp_of_order DATETIME\n",
    "        \"\"\")\n",
    "        \n",
    "        conn.commit()\n",
    "        logger.info(\"Successfully added 'timestamp_of_order' column to option_strategies table.\")\n",
    "        \n",
    "    except sqlite3.Error as e:\n",
    "        logger.error(f\"SQLite error: {e}\")\n",
    "        if conn:\n",
    "            conn.rollback()\n",
    "    finally:\n",
    "        if conn:\n",
    "            conn.close()\n",
    "\n",
    "if __name__ == \"__main__\":\n",
    "    add_premium_column()"
   ]
  },
  {
   "cell_type": "markdown",
   "metadata": {},
   "source": [
    "## Query a section of the database"
   ]
  },
  {
   "cell_type": "code",
   "execution_count": null,
   "metadata": {},
   "outputs": [
    {
     "ename": "OperationalError",
     "evalue": "no such table: option_strategies",
     "output_type": "error",
     "traceback": [
      "\u001b[0;31m---------------------------------------------------------------------------\u001b[0m",
      "\u001b[0;31mOperationalError\u001b[0m                          Traceback (most recent call last)",
      "Cell \u001b[0;32mIn[68], line 8\u001b[0m\n\u001b[1;32m      2\u001b[0m dat \u001b[38;5;241m=\u001b[39m sqlite3\u001b[38;5;241m.\u001b[39mconnect(\u001b[38;5;124m'\u001b[39m\u001b[38;5;124moption_strategies.db\u001b[39m\u001b[38;5;124m'\u001b[39m)\n\u001b[1;32m      3\u001b[0m query_text \u001b[38;5;241m=\u001b[39m \u001b[38;5;124mf\u001b[39m\u001b[38;5;124m\"\"\"\u001b[39m\n\u001b[1;32m      4\u001b[0m \u001b[38;5;124m    SELECT * FROM option_strategies \u001b[39m\n\u001b[1;32m      5\u001b[0m \u001b[38;5;124m    WHERE date(scrape_date) = \u001b[39m\u001b[38;5;124m'\u001b[39m\u001b[38;5;132;01m{\u001b[39;00mstart_date\u001b[38;5;132;01m}\u001b[39;00m\u001b[38;5;124m'\u001b[39m\n\u001b[1;32m      6\u001b[0m \u001b[38;5;124m    AND strategy_status = \u001b[39m\u001b[38;5;124m'\u001b[39m\u001b[38;5;124mtriggered\u001b[39m\u001b[38;5;124m'\u001b[39m\n\u001b[1;32m      7\u001b[0m \u001b[38;5;124m    \u001b[39m\u001b[38;5;124m\"\"\"\u001b[39m\n\u001b[0;32m----> 8\u001b[0m query \u001b[38;5;241m=\u001b[39m \u001b[43mdat\u001b[49m\u001b[38;5;241;43m.\u001b[39;49m\u001b[43mexecute\u001b[49m\u001b[43m(\u001b[49m\u001b[43mquery_text\u001b[49m\u001b[43m)\u001b[49m\n\u001b[1;32m      9\u001b[0m cols \u001b[38;5;241m=\u001b[39m [column[\u001b[38;5;241m0\u001b[39m] \u001b[38;5;28;01mfor\u001b[39;00m column \u001b[38;5;129;01min\u001b[39;00m query\u001b[38;5;241m.\u001b[39mdescription]\n\u001b[1;32m     10\u001b[0m results\u001b[38;5;241m=\u001b[39m pd\u001b[38;5;241m.\u001b[39mDataFrame\u001b[38;5;241m.\u001b[39mfrom_records(data \u001b[38;5;241m=\u001b[39m query\u001b[38;5;241m.\u001b[39mfetchall(), columns \u001b[38;5;241m=\u001b[39m cols)\n",
      "\u001b[0;31mOperationalError\u001b[0m: no such table: option_strategies"
     ]
    }
   ],
   "source": [
    "\n",
    "\n",
    "start_date = '2025-03-29'\n",
    "dat = sqlite3.connect('option_strategies.db')\n",
    "query_text = f\"\"\"\n",
    "    SELECT * FROM option_strategies \n",
    "    WHERE date(scrape_date) = '{start_date}'\n",
    "    AND strategy_status = 'triggered'\n",
    "    \"\"\"\n",
    "query = dat.execute(query_text)\n",
    "cols = [column[0] for column in query.description]\n",
    "results= pd.DataFrame.from_records(data = query.fetchall(), columns = cols)\n",
    "results"
   ]
  },
  {
   "cell_type": "markdown",
   "metadata": {},
   "source": [
    "## Delete all row except 1"
   ]
  },
  {
   "cell_type": "code",
   "execution_count": null,
   "metadata": {},
   "outputs": [
    {
     "name": "stdout",
     "output_type": "stream",
     "text": [
      "Rows deleted except the one with id = 312.\n"
     ]
    }
   ],
   "source": [
    "import sqlite3\n",
    "\n",
    "# Connect to your database\n",
    "conn = sqlite3.connect('option_strategies.db')\n",
    "cur= conn.cursor()\n",
    "\n",
    "# Delete all rows except the one where id = 312\n",
    "cur.execute(\"DELETE FROM option_strategies WHERE id != ?\", (312,))\n",
    "\n",
    "# Commit changes and close connection\n",
    "conn.commit()\n",
    "conn.close()\n",
    "\n",
    "print(\"Rows deleted except the one with id = 312.\")"
   ]
  },
  {
   "cell_type": "markdown",
   "metadata": {},
   "source": [
    "## Delete rows from scrape date"
   ]
  },
  {
   "cell_type": "code",
   "execution_count": null,
   "metadata": {},
   "outputs": [
    {
     "name": "stdout",
     "output_type": "stream",
     "text": [
      "Rows deleted\n"
     ]
    }
   ],
   "source": [
    "import sqlite3\n",
    "\n",
    "date_to_delete = '2025-04-14'\n",
    "\n",
    "# Connect to your database\n",
    "conn = sqlite3.connect('option_strategies.db')\n",
    "cur = conn.cursor()\n",
    "\n",
    "# Delete rows for the specific date\n",
    "cur.execute(\"DELETE FROM option_strategies WHERE DATE(scrape_date) = ?\", (date_to_delete,))\n",
    "\n",
    "# Get number of rows deleted\n",
    "rows_deleted = cur.rowcount\n",
    "\n",
    "# Commit changes and close connection\n",
    "conn.commit()\n",
    "conn.close()\n",
    "\n",
    "print(f\"{rows_deleted} rows deleted.\")\n",
    "\n"
   ]
  },
  {
   "cell_type": "markdown",
   "metadata": {},
   "source": [
    "## Change Ticker symbol"
   ]
  },
  {
   "cell_type": "markdown",
   "metadata": {},
   "source": []
  },
  {
   "cell_type": "code",
   "execution_count": 6,
   "metadata": {},
   "outputs": [],
   "source": [
    "import sqlite3\n",
    "# this just work by a row number and new trigger price \n",
    "# old trigger price for row 34: 166.68\n",
    "sql  = 'UPDATE option_strategies SET ticker=? WHERE id = ?'\n",
    "\n",
    "try:\n",
    "    with sqlite3.connect('option_strategies.db') as conn:\n",
    "        cur = conn.cursor()\n",
    "        cur.execute(sql, ('WMT', 179))\n",
    "        conn.commit()\n",
    "except sqlite3.OperationalError as e:\n",
    "    print(e)"
   ]
  },
  {
   "cell_type": "code",
   "execution_count": null,
   "metadata": {},
   "outputs": [],
   "source": [
    "import sqlite3\n",
    "# this just work by a row number and new trigger price \n",
    "# old trigger price for row 34: 166.68\n",
    "sql  = 'UPDATE option_strategies SET ticker=?, trigger_price=?, strike_buy=?, strike_sell=? WHERE id = ?'\n",
    "try:\n",
    "    with sqlite3.connect('option_strategies.db') as conn:\n",
    "        cur = conn.cursor()\n",
    "        cur.execute(sql, ('BBY', 650, 680, 690, 312))\n",
    "        conn.commit()\n",
    "except sqlite3.OperationalError as e:\n",
    "    print(e)"
   ]
  },
  {
   "cell_type": "code",
   "execution_count": null,
   "metadata": {},
   "outputs": [],
   "source": []
  }
 ],
 "metadata": {
  "kernelspec": {
   "display_name": "optcom3_12",
   "language": "python",
   "name": "python3"
  },
  "language_info": {
   "codemirror_mode": {
    "name": "ipython",
    "version": 3
   },
   "file_extension": ".py",
   "mimetype": "text/x-python",
   "name": "python",
   "nbconvert_exporter": "python",
   "pygments_lexer": "ipython3",
   "version": "3.12.9"
  }
 },
 "nbformat": 4,
 "nbformat_minor": 2
}
