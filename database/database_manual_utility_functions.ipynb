{
 "cells": [
  {
   "cell_type": "markdown",
   "metadata": {},
   "source": [
    "## Veiew DB in panadas"
   ]
  },
  {
   "cell_type": "code",
   "execution_count": 12,
   "metadata": {},
   "outputs": [
    {
     "name": "stdout",
     "output_type": "stream",
     "text": [
      "['id', 'scrape_date', 'strategy_type', 'tab_name', 'ticker', 'er', 'INTEGER', 'trigger_price', 'strike_price', 'strike_buy', 'strike_sell', 'estimated_premium', 'last_price_when_checked', 'timestamp_of_price_when_last_checked', 'item_id', 'options_expiry_date', 'date_info', 'timestamp_of_trigger', 'strategy_status', 'price_when_triggered', 'price_when_order_placed', 'premium_at_order', 'premium_when_last_checked', 'timestamp_of_order']\n"
     ]
    },
    {
     "data": {
      "text/html": [
       "<div>\n",
       "<style scoped>\n",
       "    .dataframe tbody tr th:only-of-type {\n",
       "        vertical-align: middle;\n",
       "    }\n",
       "\n",
       "    .dataframe tbody tr th {\n",
       "        vertical-align: top;\n",
       "    }\n",
       "\n",
       "    .dataframe thead th {\n",
       "        text-align: right;\n",
       "    }\n",
       "</style>\n",
       "<table border=\"1\" class=\"dataframe\">\n",
       "  <thead>\n",
       "    <tr style=\"text-align: right;\">\n",
       "      <th></th>\n",
       "      <th>id</th>\n",
       "      <th>strategy_type</th>\n",
       "      <th>tab_name</th>\n",
       "      <th>er</th>\n",
       "      <th>ticker</th>\n",
       "      <th>trigger_price</th>\n",
       "      <th>strike_price</th>\n",
       "      <th>strike_buy</th>\n",
       "      <th>strike_sell</th>\n",
       "      <th>estimated_premium</th>\n",
       "      <th>last_price_when_checked</th>\n",
       "      <th>timestamp_of_price_when_last_checked</th>\n",
       "      <th>scrape_date</th>\n",
       "      <th>timestamp_of_trigger</th>\n",
       "      <th>strategy_status</th>\n",
       "      <th>price_when_triggered</th>\n",
       "      <th>price_when_order_placed</th>\n",
       "      <th>premium_when_last_checked</th>\n",
       "    </tr>\n",
       "  </thead>\n",
       "  <tbody>\n",
       "    <tr>\n",
       "      <th>15</th>\n",
       "      <td>187</td>\n",
       "      <td>Bull Put</td>\n",
       "      <td>Mild Risk 95-97% accuracy &gt; shorter expiry</td>\n",
       "      <td>NaN</td>\n",
       "      <td>TSM</td>\n",
       "      <td>141.03</td>\n",
       "      <td>sell 135.0 - buy 125.0</td>\n",
       "      <td>125.0</td>\n",
       "      <td>135.0</td>\n",
       "      <td>212.0</td>\n",
       "      <td>155.10</td>\n",
       "      <td>2025-04-14T20:31:07.136315</td>\n",
       "      <td>2025-04-14T07:32:53.010932</td>\n",
       "      <td>None</td>\n",
       "      <td>None</td>\n",
       "      <td>NaN</td>\n",
       "      <td>None</td>\n",
       "      <td>NaN</td>\n",
       "    </tr>\n",
       "    <tr>\n",
       "      <th>17</th>\n",
       "      <td>189</td>\n",
       "      <td>Bull Put</td>\n",
       "      <td>Mild Risk 95-97% accuracy &gt; longer expiry</td>\n",
       "      <td>NaN</td>\n",
       "      <td>NKE</td>\n",
       "      <td>51.56</td>\n",
       "      <td>sell 49.0 - buy 40.0</td>\n",
       "      <td>40.0</td>\n",
       "      <td>49.0</td>\n",
       "      <td>170.0</td>\n",
       "      <td>55.20</td>\n",
       "      <td>2025-04-14T20:31:07.125886</td>\n",
       "      <td>2025-04-14T07:33:00.143576</td>\n",
       "      <td>None</td>\n",
       "      <td>None</td>\n",
       "      <td>NaN</td>\n",
       "      <td>None</td>\n",
       "      <td>NaN</td>\n",
       "    </tr>\n",
       "    <tr>\n",
       "      <th>19</th>\n",
       "      <td>191</td>\n",
       "      <td>Bear Call</td>\n",
       "      <td>Mild Risk 95-97% accuracy &gt; shorter expiry</td>\n",
       "      <td>NaN</td>\n",
       "      <td>GOOGL</td>\n",
       "      <td>168.56</td>\n",
       "      <td>sell 175.0 - buy 185.0</td>\n",
       "      <td>185.0</td>\n",
       "      <td>175.0</td>\n",
       "      <td>270.0</td>\n",
       "      <td>155.02</td>\n",
       "      <td>2025-04-15T23:44:17.692846</td>\n",
       "      <td>2025-04-15T04:58:08.230394</td>\n",
       "      <td>None</td>\n",
       "      <td>None</td>\n",
       "      <td>NaN</td>\n",
       "      <td>None</td>\n",
       "      <td>NaN</td>\n",
       "    </tr>\n",
       "    <tr>\n",
       "      <th>20</th>\n",
       "      <td>192</td>\n",
       "      <td>Bear Call</td>\n",
       "      <td>Mild Risk 95-97% accuracy &gt; shorter expiry</td>\n",
       "      <td>NaN</td>\n",
       "      <td>JNJ</td>\n",
       "      <td>156.33</td>\n",
       "      <td>sell 162.5 - buy 172.5</td>\n",
       "      <td>172.5</td>\n",
       "      <td>162.5</td>\n",
       "      <td>103.0</td>\n",
       "      <td>153.50</td>\n",
       "      <td>2025-04-15T23:44:17.699988</td>\n",
       "      <td>2025-04-15T04:58:08.317415</td>\n",
       "      <td>None</td>\n",
       "      <td>None</td>\n",
       "      <td>NaN</td>\n",
       "      <td>None</td>\n",
       "      <td>NaN</td>\n",
       "    </tr>\n",
       "    <tr>\n",
       "      <th>21</th>\n",
       "      <td>193</td>\n",
       "      <td>Bear Call</td>\n",
       "      <td>Mild Risk 95-97% accuracy &gt; shorter expiry</td>\n",
       "      <td>NaN</td>\n",
       "      <td>MSFT</td>\n",
       "      <td>404.73</td>\n",
       "      <td>sell 425.0 - buy 435.0</td>\n",
       "      <td>435.0</td>\n",
       "      <td>425.0</td>\n",
       "      <td>232.0</td>\n",
       "      <td>383.90</td>\n",
       "      <td>2025-04-15T23:44:17.705745</td>\n",
       "      <td>2025-04-15T04:58:08.396769</td>\n",
       "      <td>None</td>\n",
       "      <td>None</td>\n",
       "      <td>NaN</td>\n",
       "      <td>None</td>\n",
       "      <td>NaN</td>\n",
       "    </tr>\n",
       "    <tr>\n",
       "      <th>23</th>\n",
       "      <td>195</td>\n",
       "      <td>Bear Call</td>\n",
       "      <td>Mild Risk 95-97% accuracy &gt; longer expiry</td>\n",
       "      <td>NaN</td>\n",
       "      <td>IWM</td>\n",
       "      <td>190.96</td>\n",
       "      <td>sell 200.0 - buy 210.0</td>\n",
       "      <td>210.0</td>\n",
       "      <td>200.0</td>\n",
       "      <td>189.0</td>\n",
       "      <td>185.78</td>\n",
       "      <td>2025-04-15T23:44:17.686331</td>\n",
       "      <td>2025-04-15T04:58:15.515846</td>\n",
       "      <td>None</td>\n",
       "      <td>None</td>\n",
       "      <td>NaN</td>\n",
       "      <td>None</td>\n",
       "      <td>NaN</td>\n",
       "    </tr>\n",
       "    <tr>\n",
       "      <th>25</th>\n",
       "      <td>197</td>\n",
       "      <td>Bull Put</td>\n",
       "      <td>Mild Risk 95-97% accuracy &gt; shorter expiry</td>\n",
       "      <td>NaN</td>\n",
       "      <td>MSFT</td>\n",
       "      <td>375.84</td>\n",
       "      <td>sell 355.0 - buy 345.0</td>\n",
       "      <td>345.0</td>\n",
       "      <td>355.0</td>\n",
       "      <td>142.0</td>\n",
       "      <td>383.90</td>\n",
       "      <td>2025-04-15T23:44:17.724188</td>\n",
       "      <td>2025-04-15T04:58:27.981097</td>\n",
       "      <td>None</td>\n",
       "      <td>None</td>\n",
       "      <td>NaN</td>\n",
       "      <td>None</td>\n",
       "      <td>NaN</td>\n",
       "    </tr>\n",
       "    <tr>\n",
       "      <th>27</th>\n",
       "      <td>199</td>\n",
       "      <td>Bull Put</td>\n",
       "      <td>Mild Risk 95-97% accuracy &gt; longer expiry</td>\n",
       "      <td>NaN</td>\n",
       "      <td>META</td>\n",
       "      <td>518.65</td>\n",
       "      <td>sell 475.0 - buy 465.0</td>\n",
       "      <td>465.0</td>\n",
       "      <td>475.0</td>\n",
       "      <td>273.0</td>\n",
       "      <td>513.25</td>\n",
       "      <td>2025-04-15T23:44:17.714278</td>\n",
       "      <td>2025-04-15T04:58:35.221500</td>\n",
       "      <td>2025-04-15T18:14:01.482272</td>\n",
       "      <td>order placed</td>\n",
       "      <td>518.4</td>\n",
       "      <td>None</td>\n",
       "      <td>1400.0</td>\n",
       "    </tr>\n",
       "    <tr>\n",
       "      <th>28</th>\n",
       "      <td>200</td>\n",
       "      <td>Bull Put</td>\n",
       "      <td>Mild Risk 95-97% accuracy &gt; longer expiry</td>\n",
       "      <td>NaN</td>\n",
       "      <td>NKE</td>\n",
       "      <td>53.64</td>\n",
       "      <td>sell 51.0 - buy 41.0</td>\n",
       "      <td>41.0</td>\n",
       "      <td>51.0</td>\n",
       "      <td>168.0</td>\n",
       "      <td>54.37</td>\n",
       "      <td>2025-04-15T23:44:17.719454</td>\n",
       "      <td>2025-04-15T04:58:35.308179</td>\n",
       "      <td>None</td>\n",
       "      <td>None</td>\n",
       "      <td>NaN</td>\n",
       "      <td>None</td>\n",
       "      <td>NaN</td>\n",
       "    </tr>\n",
       "  </tbody>\n",
       "</table>\n",
       "</div>"
      ],
      "text/plain": [
       "     id strategy_type                                    tab_name  er ticker  \\\n",
       "15  187      Bull Put  Mild Risk 95-97% accuracy > shorter expiry NaN    TSM   \n",
       "17  189      Bull Put   Mild Risk 95-97% accuracy > longer expiry NaN    NKE   \n",
       "19  191     Bear Call  Mild Risk 95-97% accuracy > shorter expiry NaN  GOOGL   \n",
       "20  192     Bear Call  Mild Risk 95-97% accuracy > shorter expiry NaN    JNJ   \n",
       "21  193     Bear Call  Mild Risk 95-97% accuracy > shorter expiry NaN   MSFT   \n",
       "23  195     Bear Call   Mild Risk 95-97% accuracy > longer expiry NaN    IWM   \n",
       "25  197      Bull Put  Mild Risk 95-97% accuracy > shorter expiry NaN   MSFT   \n",
       "27  199      Bull Put   Mild Risk 95-97% accuracy > longer expiry NaN   META   \n",
       "28  200      Bull Put   Mild Risk 95-97% accuracy > longer expiry NaN    NKE   \n",
       "\n",
       "   trigger_price            strike_price  strike_buy  strike_sell  \\\n",
       "15        141.03  sell 135.0 - buy 125.0       125.0        135.0   \n",
       "17         51.56    sell 49.0 - buy 40.0        40.0         49.0   \n",
       "19        168.56  sell 175.0 - buy 185.0       185.0        175.0   \n",
       "20        156.33  sell 162.5 - buy 172.5       172.5        162.5   \n",
       "21        404.73  sell 425.0 - buy 435.0       435.0        425.0   \n",
       "23        190.96  sell 200.0 - buy 210.0       210.0        200.0   \n",
       "25        375.84  sell 355.0 - buy 345.0       345.0        355.0   \n",
       "27        518.65  sell 475.0 - buy 465.0       465.0        475.0   \n",
       "28         53.64    sell 51.0 - buy 41.0        41.0         51.0   \n",
       "\n",
       "   estimated_premium  last_price_when_checked  \\\n",
       "15             212.0                   155.10   \n",
       "17             170.0                    55.20   \n",
       "19             270.0                   155.02   \n",
       "20             103.0                   153.50   \n",
       "21             232.0                   383.90   \n",
       "23             189.0                   185.78   \n",
       "25             142.0                   383.90   \n",
       "27             273.0                   513.25   \n",
       "28             168.0                    54.37   \n",
       "\n",
       "   timestamp_of_price_when_last_checked                 scrape_date  \\\n",
       "15           2025-04-14T20:31:07.136315  2025-04-14T07:32:53.010932   \n",
       "17           2025-04-14T20:31:07.125886  2025-04-14T07:33:00.143576   \n",
       "19           2025-04-15T23:44:17.692846  2025-04-15T04:58:08.230394   \n",
       "20           2025-04-15T23:44:17.699988  2025-04-15T04:58:08.317415   \n",
       "21           2025-04-15T23:44:17.705745  2025-04-15T04:58:08.396769   \n",
       "23           2025-04-15T23:44:17.686331  2025-04-15T04:58:15.515846   \n",
       "25           2025-04-15T23:44:17.724188  2025-04-15T04:58:27.981097   \n",
       "27           2025-04-15T23:44:17.714278  2025-04-15T04:58:35.221500   \n",
       "28           2025-04-15T23:44:17.719454  2025-04-15T04:58:35.308179   \n",
       "\n",
       "          timestamp_of_trigger strategy_status  price_when_triggered  \\\n",
       "15                        None            None                   NaN   \n",
       "17                        None            None                   NaN   \n",
       "19                        None            None                   NaN   \n",
       "20                        None            None                   NaN   \n",
       "21                        None            None                   NaN   \n",
       "23                        None            None                   NaN   \n",
       "25                        None            None                   NaN   \n",
       "27  2025-04-15T18:14:01.482272    order placed                 518.4   \n",
       "28                        None            None                   NaN   \n",
       "\n",
       "   price_when_order_placed  premium_when_last_checked  \n",
       "15                    None                        NaN  \n",
       "17                    None                        NaN  \n",
       "19                    None                        NaN  \n",
       "20                    None                        NaN  \n",
       "21                    None                        NaN  \n",
       "23                    None                        NaN  \n",
       "25                    None                        NaN  \n",
       "27                    None                     1400.0  \n",
       "28                    None                        NaN  "
      ]
     },
     "execution_count": 12,
     "metadata": {},
     "output_type": "execute_result"
    }
   ],
   "source": [
    "import sqlite3\n",
    "import pandas as pd\n",
    "\n",
    "dat = sqlite3.connect('option_strategies.db')\n",
    "query = dat.execute(\"SELECT * From option_strategies\")\n",
    "cols = [column[0] for column in query.description]\n",
    "print(cols)\n",
    "results= pd.DataFrame.from_records(data = query.fetchall(), columns = cols)\n",
    "res = results[(results['ticker']!='None')]\n",
    "res[['id', 'strategy_type', 'tab_name', 'er', 'ticker','trigger_price', 'strike_price', 'strike_buy','strike_sell','estimated_premium', 'last_price_when_checked',\n",
    "         'timestamp_of_price_when_last_checked','scrape_date', 'timestamp_of_trigger','strategy_status', 'price_when_triggered', 'price_when_order_placed','premium_when_last_checked']].tail(9)"
   ]
  },
  {
   "cell_type": "markdown",
   "metadata": {},
   "source": [
    "## Delete ALL rows in SQLite database"
   ]
  },
  {
   "cell_type": "code",
   "execution_count": 58,
   "metadata": {},
   "outputs": [
    {
     "ename": "NameError",
     "evalue": "name 'stop' is not defined",
     "output_type": "error",
     "traceback": [
      "\u001b[31m---------------------------------------------------------------------------\u001b[39m",
      "\u001b[31mNameError\u001b[39m                                 Traceback (most recent call last)",
      "\u001b[36mCell\u001b[39m\u001b[36m \u001b[39m\u001b[32mIn[58]\u001b[39m\u001b[32m, line 1\u001b[39m\n\u001b[32m----> \u001b[39m\u001b[32m1\u001b[39m \u001b[43mstop\u001b[49m\n",
      "\u001b[31mNameError\u001b[39m: name 'stop' is not defined"
     ]
    }
   ],
   "source": [
    "stop"
   ]
  },
  {
   "cell_type": "code",
   "execution_count": null,
   "metadata": {},
   "outputs": [
    {
     "name": "stdout",
     "output_type": "stream",
     "text": [
      "We have deleted 20 records from the table.\n"
     ]
    }
   ],
   "source": [
    "\n",
    "import sqlite3\n",
    "\n",
    "conn = sqlite3.connect('option_strategies.db')\n",
    "c = conn.cursor()\n",
    "\n",
    "# Delete all rows from table\n",
    "c.execute('DELETE FROM option_strategies;',)\n",
    "\n",
    "print('We have deleted', c.rowcount, 'records from the table.')\n",
    "\n",
    "# Commit the changes to db\t\t\t\n",
    "conn.commit()\n",
    "# Close the connection\n",
    "conn.close()"
   ]
  },
  {
   "cell_type": "markdown",
   "metadata": {},
   "source": [
    "## Delete table"
   ]
  },
  {
   "cell_type": "code",
   "execution_count": null,
   "metadata": {},
   "outputs": [
    {
     "name": "stdout",
     "output_type": "stream",
     "text": [
      "data dropped successfully\n"
     ]
    }
   ],
   "source": [
    "\n",
    "# importing sqlite module \n",
    "import sqlite3 \n",
    "  \n",
    "# create connection to the  \n",
    "# database geek \n",
    "connection = sqlite3.connect('option_strategies.db') \n",
    "  \n",
    "# drop table \n",
    "connection.execute(\"DROP TABLE option_strategies\") \n",
    "  \n",
    "print(\"data dropped successfully\") \n",
    "  \n",
    "# close the connection \n",
    "connection.close() "
   ]
  },
  {
   "cell_type": "markdown",
   "metadata": {},
   "source": [
    "## Update Row"
   ]
  },
  {
   "cell_type": "code",
   "execution_count": null,
   "metadata": {},
   "outputs": [],
   "source": [
    "import sqlite3\n",
    "# this just work by a row number and new trigger price \n",
    "# old trigger price for row 34: 166.68\n",
    "sql  = 'UPDATE option_strategies SET trigger_price=? WHERE id = ?'\n",
    "\n",
    "try:\n",
    "    with sqlite3.connect('option_strategies.db') as conn:\n",
    "        cur = conn.cursor()\n",
    "        cur.execute(sql, (55, 7))\n",
    "        conn.commit()\n",
    "except sqlite3.OperationalError as e:\n",
    "    print(e)"
   ]
  },
  {
   "cell_type": "markdown",
   "metadata": {},
   "source": [
    "## update estimated premium"
   ]
  },
  {
   "cell_type": "code",
   "execution_count": 61,
   "metadata": {},
   "outputs": [],
   "source": [
    "import sqlite3\n",
    "# this just work by a row number and new trigger price \n",
    "# old trigger price for row 34: 166.68\n",
    "sql  = 'UPDATE option_strategies SET estimated_premium=? WHERE id = ?'\n",
    "\n",
    "try:\n",
    "    with sqlite3.connect('option_strategies.db') as conn:\n",
    "        cur = conn.cursor()\n",
    "        cur.execute(sql, (10, 180))\n",
    "        conn.commit()\n",
    "except sqlite3.OperationalError as e:\n",
    "    print(e)"
   ]
  },
  {
   "cell_type": "markdown",
   "metadata": {},
   "source": [
    "## update trigger price"
   ]
  },
  {
   "cell_type": "code",
   "execution_count": null,
   "metadata": {},
   "outputs": [],
   "source": [
    "import sqlite3\n",
    "# this just work by a row number and new trigger price \n",
    "# old trigger price for row 34: 166.68\n",
    "sql  = 'UPDATE option_strategies SET trigger_price=? WHERE id = ?'\n",
    "\n",
    "try:\n",
    "    with sqlite3.connect('option_strategies.db') as conn:\n",
    "        cur = conn.cursor()\n",
    "        cur.execute(sql, (159, 180))\n",
    "        conn.commit()\n",
    "except sqlite3.OperationalError as e:\n",
    "    print(e)"
   ]
  },
  {
   "cell_type": "markdown",
   "metadata": {},
   "source": [
    "## update ticker symbol"
   ]
  },
  {
   "cell_type": "code",
   "execution_count": 10,
   "metadata": {},
   "outputs": [],
   "source": [
    "import sqlite3\n",
    "# this just work by a row number and new trigger price \n",
    "# old trigger price for row 34: 166.68\n",
    "sql  = 'UPDATE option_strategies SET ticker=? WHERE id = ?'\n",
    "\n",
    "try:\n",
    "    with sqlite3.connect('option_strategies.db') as conn:\n",
    "        cur = conn.cursor()\n",
    "        cur.execute(sql, ('JNJ', 192))\n",
    "        conn.commit()\n",
    "except sqlite3.OperationalError as e:\n",
    "    print(e)"
   ]
  },
  {
   "cell_type": "markdown",
   "metadata": {},
   "source": [
    "## Change columns entries 'strategy_status'"
   ]
  },
  {
   "cell_type": "code",
   "execution_count": null,
   "metadata": {},
   "outputs": [
    {
     "name": "stdout",
     "output_type": "stream",
     "text": [
      "1 rows updated.\n"
     ]
    }
   ],
   "source": [
    "import sqlite3\n",
    "\n",
    "def update_strategy_status():\n",
    "    try:\n",
    "        # Connect to the SQLite database\n",
    "        conn = sqlite3.connect('option_strategies.db')\n",
    "        cursor = conn.cursor()\n",
    "        \n",
    "        # Define the SQL update query\n",
    "        update_query = \"\"\"\n",
    "        UPDATE option_strategies\n",
    "        SET strategy_status = 'triggered'\n",
    "        WHERE strategy_status = 'premium too low';\n",
    "        \"\"\"\n",
    "        \n",
    "        # Execute the update query\n",
    "        cursor.execute(update_query)\n",
    "        conn.commit()\n",
    "        \n",
    "        # Report the number of rows updated\n",
    "        print(f\"{cursor.rowcount} rows updated.\")\n",
    "        \n",
    "    except sqlite3.Error as error:\n",
    "        print(\"Error while updating SQLite table:\", error)\n",
    "    finally:\n",
    "        # Ensure that the connection is closed\n",
    "        if conn:\n",
    "            conn.close()\n",
    "\n",
    "if __name__ == \"__main__\":\n",
    "    update_strategy_status()\n",
    "\n"
   ]
  },
  {
   "cell_type": "markdown",
   "metadata": {},
   "source": [
    " ## Change columns entries 'scrape_date'"
   ]
  },
  {
   "cell_type": "code",
   "execution_count": null,
   "metadata": {},
   "outputs": [
    {
     "name": "stdout",
     "output_type": "stream",
     "text": [
      "13 rows updated.\n"
     ]
    }
   ],
   "source": [
    "import sqlite3\n",
    "\n",
    "def update_scrape_date():\n",
    "    try:\n",
    "        # Connect to the SQLite database\n",
    "        conn = sqlite3.connect('option_strategies.db')\n",
    "        cursor = conn.cursor()\n",
    "        \n",
    "        # Update query: change scrape_date to '2025-04-06'\n",
    "        # where the date portion of scrape_date is '2025-04-03'\n",
    "        update_query = \"\"\"\n",
    "        UPDATE option_strategies\n",
    "        SET scrape_date = '2025-04-11'\n",
    "        WHERE DATE(scrape_date) = '2025-04-10';  \n",
    "        \"\"\"\n",
    "        \n",
    "        # Execute the update query\n",
    "        cursor.execute(update_query)\n",
    "        conn.commit()\n",
    "        \n",
    "        # Output the number of rows updated\n",
    "        print(f\"{cursor.rowcount} rows updated.\")\n",
    "        \n",
    "    except sqlite3.Error as error:\n",
    "        print(\"Error updating scrape_date:\", error)\n",
    "    finally:\n",
    "        # Ensure the connection is closed\n",
    "        if conn:\n",
    "            conn.close()\n",
    "\n",
    "if __name__ == \"__main__\":\n",
    "    update_scrape_date()\n",
    "\n"
   ]
  },
  {
   "cell_type": "markdown",
   "metadata": {},
   "source": [
    "## Add New column"
   ]
  },
  {
   "cell_type": "code",
   "execution_count": null,
   "metadata": {},
   "outputs": [
    {
     "name": "stderr",
     "output_type": "stream",
     "text": [
      "2025-04-06 08:14:48,843 - ERROR - SQLite error: no such table: option_strategies\n"
     ]
    }
   ],
   "source": [
    "import sqlite3\n",
    "import logging\n",
    "\n",
    "# Set up logging\n",
    "logging.basicConfig(level=logging.INFO, format='%(asctime)s - %(levelname)s - %(message)s')\n",
    "logger = logging.getLogger(__name__)\n",
    "\n",
    "def add_premium_column():\n",
    "    \"\"\"Add a 'timestamp_of_order ' column to the option_strategies table.\"\"\"\n",
    "    conn = None\n",
    "    try:\n",
    "        # Connect to the database\n",
    "        conn = sqlite3.connect('option_strategies.db')\n",
    "        cursor = conn.cursor()\n",
    "        \n",
    "        # Check if the column already exists\n",
    "        cursor.execute(\"PRAGMA table_info(option_strategies)\")\n",
    "        columns = [col[1] for col in cursor.fetchall()]\n",
    "        \n",
    "        if 'timestamp_of_order ' in columns:\n",
    "            logger.info(\"Column 'timestamp_of_order  already exists in the table.\")\n",
    "            return\n",
    "        \n",
    "        # Add the new column - using REAL type for storing decimal/float values\n",
    "        cursor.execute(\"\"\"\n",
    "            ALTER TABLE option_strategies \n",
    "            ADD COLUMN timestamp_of_order DATETIME\n",
    "        \"\"\")\n",
    "        \n",
    "        conn.commit()\n",
    "        logger.info(\"Successfully added 'timestamp_of_order' column to option_strategies table.\")\n",
    "        \n",
    "    except sqlite3.Error as e:\n",
    "        logger.error(f\"SQLite error: {e}\")\n",
    "        if conn:\n",
    "            conn.rollback()\n",
    "    finally:\n",
    "        if conn:\n",
    "            conn.close()\n",
    "\n",
    "if __name__ == \"__main__\":\n",
    "    add_premium_column()"
   ]
  },
  {
   "cell_type": "markdown",
   "metadata": {},
   "source": [
    "## Query a section of the database"
   ]
  },
  {
   "cell_type": "code",
   "execution_count": null,
   "metadata": {},
   "outputs": [
    {
     "ename": "OperationalError",
     "evalue": "no such table: option_strategies",
     "output_type": "error",
     "traceback": [
      "\u001b[0;31m---------------------------------------------------------------------------\u001b[0m",
      "\u001b[0;31mOperationalError\u001b[0m                          Traceback (most recent call last)",
      "Cell \u001b[0;32mIn[68], line 8\u001b[0m\n\u001b[1;32m      2\u001b[0m dat \u001b[38;5;241m=\u001b[39m sqlite3\u001b[38;5;241m.\u001b[39mconnect(\u001b[38;5;124m'\u001b[39m\u001b[38;5;124moption_strategies.db\u001b[39m\u001b[38;5;124m'\u001b[39m)\n\u001b[1;32m      3\u001b[0m query_text \u001b[38;5;241m=\u001b[39m \u001b[38;5;124mf\u001b[39m\u001b[38;5;124m\"\"\"\u001b[39m\n\u001b[1;32m      4\u001b[0m \u001b[38;5;124m    SELECT * FROM option_strategies \u001b[39m\n\u001b[1;32m      5\u001b[0m \u001b[38;5;124m    WHERE date(scrape_date) = \u001b[39m\u001b[38;5;124m'\u001b[39m\u001b[38;5;132;01m{\u001b[39;00mstart_date\u001b[38;5;132;01m}\u001b[39;00m\u001b[38;5;124m'\u001b[39m\n\u001b[1;32m      6\u001b[0m \u001b[38;5;124m    AND strategy_status = \u001b[39m\u001b[38;5;124m'\u001b[39m\u001b[38;5;124mtriggered\u001b[39m\u001b[38;5;124m'\u001b[39m\n\u001b[1;32m      7\u001b[0m \u001b[38;5;124m    \u001b[39m\u001b[38;5;124m\"\"\"\u001b[39m\n\u001b[0;32m----> 8\u001b[0m query \u001b[38;5;241m=\u001b[39m \u001b[43mdat\u001b[49m\u001b[38;5;241;43m.\u001b[39;49m\u001b[43mexecute\u001b[49m\u001b[43m(\u001b[49m\u001b[43mquery_text\u001b[49m\u001b[43m)\u001b[49m\n\u001b[1;32m      9\u001b[0m cols \u001b[38;5;241m=\u001b[39m [column[\u001b[38;5;241m0\u001b[39m] \u001b[38;5;28;01mfor\u001b[39;00m column \u001b[38;5;129;01min\u001b[39;00m query\u001b[38;5;241m.\u001b[39mdescription]\n\u001b[1;32m     10\u001b[0m results\u001b[38;5;241m=\u001b[39m pd\u001b[38;5;241m.\u001b[39mDataFrame\u001b[38;5;241m.\u001b[39mfrom_records(data \u001b[38;5;241m=\u001b[39m query\u001b[38;5;241m.\u001b[39mfetchall(), columns \u001b[38;5;241m=\u001b[39m cols)\n",
      "\u001b[0;31mOperationalError\u001b[0m: no such table: option_strategies"
     ]
    }
   ],
   "source": [
    "\n",
    "\n",
    "start_date = '2025-03-29'\n",
    "dat = sqlite3.connect('option_strategies.db')\n",
    "query_text = f\"\"\"\n",
    "    SELECT * FROM option_strategies \n",
    "    WHERE date(scrape_date) = '{start_date}'\n",
    "    AND strategy_status = 'triggered'\n",
    "    \"\"\"\n",
    "query = dat.execute(query_text)\n",
    "cols = [column[0] for column in query.description]\n",
    "results= pd.DataFrame.from_records(data = query.fetchall(), columns = cols)\n",
    "results"
   ]
  },
  {
   "cell_type": "markdown",
   "metadata": {},
   "source": [
    "## Delete all row except 1"
   ]
  },
  {
   "cell_type": "code",
   "execution_count": null,
   "metadata": {},
   "outputs": [
    {
     "name": "stdout",
     "output_type": "stream",
     "text": [
      "Rows deleted except the one with id = 312.\n"
     ]
    }
   ],
   "source": [
    "import sqlite3\n",
    "\n",
    "# Connect to your database\n",
    "conn = sqlite3.connect('option_strategies.db')\n",
    "cur= conn.cursor()\n",
    "\n",
    "# Delete all rows except the one where id = 312\n",
    "cur.execute(\"DELETE FROM option_strategies WHERE id != ?\", (312,))\n",
    "\n",
    "# Commit changes and close connection\n",
    "conn.commit()\n",
    "conn.close()\n",
    "\n",
    "print(\"Rows deleted except the one with id = 312.\")"
   ]
  },
  {
   "cell_type": "markdown",
   "metadata": {},
   "source": [
    "## Delete rows from scrape date"
   ]
  },
  {
   "cell_type": "code",
   "execution_count": null,
   "metadata": {},
   "outputs": [
    {
     "name": "stdout",
     "output_type": "stream",
     "text": [
      "Rows deleted\n"
     ]
    }
   ],
   "source": [
    "import sqlite3\n",
    "\n",
    "date_to_delete = '2025-04-14'\n",
    "\n",
    "# Connect to your database\n",
    "conn = sqlite3.connect('option_strategies.db')\n",
    "cur = conn.cursor()\n",
    "\n",
    "# Delete rows for the specific date\n",
    "cur.execute(\"DELETE FROM option_strategies WHERE DATE(scrape_date) = ?\", (date_to_delete,))\n",
    "\n",
    "# Get number of rows deleted\n",
    "rows_deleted = cur.rowcount\n",
    "\n",
    "# Commit changes and close connection\n",
    "conn.commit()\n",
    "conn.close()\n",
    "\n",
    "print(f\"{rows_deleted} rows deleted.\")\n",
    "\n"
   ]
  },
  {
   "cell_type": "markdown",
   "metadata": {},
   "source": [
    "## Change Ticker symbol"
   ]
  },
  {
   "cell_type": "markdown",
   "metadata": {},
   "source": []
  },
  {
   "cell_type": "code",
   "execution_count": null,
   "metadata": {},
   "outputs": [],
   "source": [
    "import sqlite3\n",
    "# this just work by a row number and new trigger price \n",
    "# old trigger price for row 34: 166.68\n",
    "sql  = 'UPDATE option_strategies SET ticker=? WHERE id = ?'\n",
    "\n",
    "try:\n",
    "    with sqlite3.connect('option_strategies.db') as conn:\n",
    "        cur = conn.cursor()\n",
    "        cur.execute(sql, ('WMT', 179))\n",
    "        conn.commit()\n",
    "except sqlite3.OperationalError as e:\n",
    "    print(e)"
   ]
  },
  {
   "cell_type": "code",
   "execution_count": null,
   "metadata": {},
   "outputs": [],
   "source": [
    "import sqlite3\n",
    "# this just work by a row number and new trigger price \n",
    "# old trigger price for row 34: 166.68\n",
    "sql  = 'UPDATE option_strategies SET ticker=?, trigger_price=?, strike_buy=?, strike_sell=? WHERE id = ?'\n",
    "try:\n",
    "    with sqlite3.connect('option_strategies.db') as conn:\n",
    "        cur = conn.cursor()\n",
    "        cur.execute(sql, ('BBY', 650, 680, 690, 312))\n",
    "        conn.commit()\n",
    "except sqlite3.OperationalError as e:\n",
    "    print(e)"
   ]
  },
  {
   "cell_type": "code",
   "execution_count": null,
   "metadata": {},
   "outputs": [],
   "source": []
  }
 ],
 "metadata": {
  "kernelspec": {
   "display_name": "optcom3_12",
   "language": "python",
   "name": "python3"
  },
  "language_info": {
   "codemirror_mode": {
    "name": "ipython",
    "version": 3
   },
   "file_extension": ".py",
   "mimetype": "text/x-python",
   "name": "python",
   "nbconvert_exporter": "python",
   "pygments_lexer": "ipython3",
   "version": "3.12.9"
  }
 },
 "nbformat": 4,
 "nbformat_minor": 2
}
